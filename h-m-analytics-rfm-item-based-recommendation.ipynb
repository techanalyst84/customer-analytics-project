{
 "cells": [
  {
   "cell_type": "markdown",
   "id": "cfb35317",
   "metadata": {
    "id": "gGziO4HliSQ7",
    "papermill": {
     "duration": 0.046665,
     "end_time": "2022-05-02T18:01:55.540125",
     "exception": false,
     "start_time": "2022-05-02T18:01:55.493460",
     "status": "completed"
    },
    "tags": []
   },
   "source": [
    "# H&M Consumer Analytics-RFM Segmentation and Collaborative Filtering"
   ]
  },
  {
   "cell_type": "markdown",
   "id": "f4a9de10",
   "metadata": {
    "id": "ZzY1c7H5iSRC",
    "papermill": {
     "duration": 0.046536,
     "end_time": "2022-05-02T18:01:55.634541",
     "exception": false,
     "start_time": "2022-05-02T18:01:55.588005",
     "status": "completed"
    },
    "tags": []
   },
   "source": [
    "### We have applied consumer analytics on H&M Data set\n",
    "\n",
    "***Overview:\n",
    "\n",
    "\n",
    "* Overview of Data\n",
    "* Handling Missing value treatment / Feature Engineering\n",
    " \n",
    "Solution Approach\n",
    "RFM\n",
    "Recommender Algorithm"
   ]
  },
  {
   "cell_type": "code",
   "execution_count": 1,
   "id": "3aef0ea2",
   "metadata": {
    "execution": {
     "iopub.execute_input": "2022-05-02T18:01:55.728046Z",
     "iopub.status.busy": "2022-05-02T18:01:55.727579Z",
     "iopub.status.idle": "2022-05-02T18:01:56.931539Z",
     "shell.execute_reply": "2022-05-02T18:01:56.930512Z"
    },
    "id": "Y9qNgocBiSRS",
    "outputId": "dbfba3d3-2932-48bb-c985-190486aea568",
    "papermill": {
     "duration": 1.254412,
     "end_time": "2022-05-02T18:01:56.934129",
     "exception": false,
     "start_time": "2022-05-02T18:01:55.679717",
     "status": "completed"
    },
    "tags": []
   },
   "outputs": [
    {
     "data": {
      "text/plain": [
       "<Figure size 432x288 with 0 Axes>"
      ]
     },
     "metadata": {},
     "output_type": "display_data"
    }
   ],
   "source": [
    "import numpy as np \n",
    "import pandas as pd\n",
    " \n",
    "\n",
    "import matplotlib.pyplot as plt\n",
    "import seaborn as sns\n",
    "\n",
    "plt.style.use('seaborn-white')\n",
    "sns.set_style(\"whitegrid\")\n",
    "sns.despine()\n",
    "plt.rc(\"figure\", autolayout=True)\n",
    "plt.rc(\"axes\", labelweight=\"bold\", labelsize=\"large\", titleweight=\"bold\", titlesize=14, titlepad=10)\n",
    "\n",
    "import matplotlib as mpl\n",
    "\n",
    "mpl.rcParams['axes.spines.left'] = False\n",
    "mpl.rcParams['axes.spines.right'] = False\n",
    "mpl.rcParams['axes.spines.top'] = False\n",
    "mpl.rcParams['axes.spines.bottom'] = False\n",
    "plt.rcParams[\"font.weight\"] = \"bold\"\n",
    "plt.rcParams[\"axes.labelweight\"] = \"bold\""
   ]
  },
  {
   "cell_type": "markdown",
   "id": "9648d0f2",
   "metadata": {
    "id": "Nxp_FoTOiSRU",
    "papermill": {
     "duration": 0.044665,
     "end_time": "2022-05-02T18:01:57.024508",
     "exception": false,
     "start_time": "2022-05-02T18:01:56.979843",
     "status": "completed"
    },
    "tags": []
   },
   "source": [
    "### Data import"
   ]
  },
  {
   "cell_type": "code",
   "execution_count": 2,
   "id": "85fcc557",
   "metadata": {
    "execution": {
     "iopub.execute_input": "2022-05-02T18:01:57.120794Z",
     "iopub.status.busy": "2022-05-02T18:01:57.119715Z",
     "iopub.status.idle": "2022-05-02T18:03:38.020247Z",
     "shell.execute_reply": "2022-05-02T18:03:38.019384Z"
    },
    "id": "UdyjcsSBiSRV",
    "papermill": {
     "duration": 100.951031,
     "end_time": "2022-05-02T18:03:38.022900",
     "exception": false,
     "start_time": "2022-05-02T18:01:57.071869",
     "status": "completed"
    },
    "tags": []
   },
   "outputs": [],
   "source": [
    "\n",
    "#articles = pd.read_csv(\"../input/h-and-m-personalized-fashion-recommendations/articles.csv\", \n",
    " #                      encoding=\"ISO-8859-1\", header=0)\n",
    "#customers = pd.read_csv(\"../input/h-and-m-personalized-fashion-recommendations/customers.csv\",\n",
    " #                       encoding=\"ISO-8859-1\", header=0)\n",
    "transactions =  pd.read_csv(\"../input/h-and-m-personalized-fashion-recommendations/transactions_train.csv\",\n",
    "                           encoding=\"ISO-8859-1\",dtype={'article_id':str}, header=0).drop_duplicates()"
   ]
  },
  {
   "cell_type": "code",
   "execution_count": 3,
   "id": "1350c746",
   "metadata": {
    "execution": {
     "iopub.execute_input": "2022-05-02T18:03:38.114165Z",
     "iopub.status.busy": "2022-05-02T18:03:38.113876Z",
     "iopub.status.idle": "2022-05-02T18:03:38.130705Z",
     "shell.execute_reply": "2022-05-02T18:03:38.130037Z"
    },
    "id": "fthC0ivViSR6",
    "outputId": "75a21c87-c05e-4023-96ec-ff17f4b9fb9b",
    "papermill": {
     "duration": 0.064489,
     "end_time": "2022-05-02T18:03:38.132858",
     "exception": false,
     "start_time": "2022-05-02T18:03:38.068369",
     "status": "completed"
    },
    "tags": []
   },
   "outputs": [
    {
     "data": {
      "text/html": [
       "<div>\n",
       "<style scoped>\n",
       "    .dataframe tbody tr th:only-of-type {\n",
       "        vertical-align: middle;\n",
       "    }\n",
       "\n",
       "    .dataframe tbody tr th {\n",
       "        vertical-align: top;\n",
       "    }\n",
       "\n",
       "    .dataframe thead th {\n",
       "        text-align: right;\n",
       "    }\n",
       "</style>\n",
       "<table border=\"1\" class=\"dataframe\">\n",
       "  <thead>\n",
       "    <tr style=\"text-align: right;\">\n",
       "      <th></th>\n",
       "      <th>t_dat</th>\n",
       "      <th>customer_id</th>\n",
       "      <th>article_id</th>\n",
       "      <th>price</th>\n",
       "      <th>sales_channel_id</th>\n",
       "    </tr>\n",
       "  </thead>\n",
       "  <tbody>\n",
       "    <tr>\n",
       "      <th>0</th>\n",
       "      <td>2018-09-20</td>\n",
       "      <td>000058a12d5b43e67d225668fa1f8d618c13dc232df0ca...</td>\n",
       "      <td>0663713001</td>\n",
       "      <td>0.050831</td>\n",
       "      <td>2</td>\n",
       "    </tr>\n",
       "    <tr>\n",
       "      <th>1</th>\n",
       "      <td>2018-09-20</td>\n",
       "      <td>000058a12d5b43e67d225668fa1f8d618c13dc232df0ca...</td>\n",
       "      <td>0541518023</td>\n",
       "      <td>0.030492</td>\n",
       "      <td>2</td>\n",
       "    </tr>\n",
       "    <tr>\n",
       "      <th>2</th>\n",
       "      <td>2018-09-20</td>\n",
       "      <td>00007d2de826758b65a93dd24ce629ed66842531df6699...</td>\n",
       "      <td>0505221004</td>\n",
       "      <td>0.015237</td>\n",
       "      <td>2</td>\n",
       "    </tr>\n",
       "    <tr>\n",
       "      <th>3</th>\n",
       "      <td>2018-09-20</td>\n",
       "      <td>00007d2de826758b65a93dd24ce629ed66842531df6699...</td>\n",
       "      <td>0685687003</td>\n",
       "      <td>0.016932</td>\n",
       "      <td>2</td>\n",
       "    </tr>\n",
       "    <tr>\n",
       "      <th>4</th>\n",
       "      <td>2018-09-20</td>\n",
       "      <td>00007d2de826758b65a93dd24ce629ed66842531df6699...</td>\n",
       "      <td>0685687004</td>\n",
       "      <td>0.016932</td>\n",
       "      <td>2</td>\n",
       "    </tr>\n",
       "    <tr>\n",
       "      <th>5</th>\n",
       "      <td>2018-09-20</td>\n",
       "      <td>00007d2de826758b65a93dd24ce629ed66842531df6699...</td>\n",
       "      <td>0685687001</td>\n",
       "      <td>0.016932</td>\n",
       "      <td>2</td>\n",
       "    </tr>\n",
       "    <tr>\n",
       "      <th>6</th>\n",
       "      <td>2018-09-20</td>\n",
       "      <td>00007d2de826758b65a93dd24ce629ed66842531df6699...</td>\n",
       "      <td>0505221001</td>\n",
       "      <td>0.020322</td>\n",
       "      <td>2</td>\n",
       "    </tr>\n",
       "  </tbody>\n",
       "</table>\n",
       "</div>"
      ],
      "text/plain": [
       "        t_dat                                        customer_id  article_id  \\\n",
       "0  2018-09-20  000058a12d5b43e67d225668fa1f8d618c13dc232df0ca...  0663713001   \n",
       "1  2018-09-20  000058a12d5b43e67d225668fa1f8d618c13dc232df0ca...  0541518023   \n",
       "2  2018-09-20  00007d2de826758b65a93dd24ce629ed66842531df6699...  0505221004   \n",
       "3  2018-09-20  00007d2de826758b65a93dd24ce629ed66842531df6699...  0685687003   \n",
       "4  2018-09-20  00007d2de826758b65a93dd24ce629ed66842531df6699...  0685687004   \n",
       "5  2018-09-20  00007d2de826758b65a93dd24ce629ed66842531df6699...  0685687001   \n",
       "6  2018-09-20  00007d2de826758b65a93dd24ce629ed66842531df6699...  0505221001   \n",
       "\n",
       "      price  sales_channel_id  \n",
       "0  0.050831                 2  \n",
       "1  0.030492                 2  \n",
       "2  0.015237                 2  \n",
       "3  0.016932                 2  \n",
       "4  0.016932                 2  \n",
       "5  0.016932                 2  \n",
       "6  0.020322                 2  "
      ]
     },
     "execution_count": 3,
     "metadata": {},
     "output_type": "execute_result"
    }
   ],
   "source": [
    "transactions.head(7)"
   ]
  },
  {
   "cell_type": "markdown",
   "id": "0edb668a",
   "metadata": {
    "id": "iK6RuC7piSSb",
    "papermill": {
     "duration": 0.044569,
     "end_time": "2022-05-02T18:03:38.223648",
     "exception": false,
     "start_time": "2022-05-02T18:03:38.179079",
     "status": "completed"
    },
    "tags": []
   },
   "source": [
    "# RFM Analysis\n"
   ]
  },
  {
   "cell_type": "code",
   "execution_count": 4,
   "id": "edd5ee92",
   "metadata": {
    "execution": {
     "iopub.execute_input": "2022-05-02T18:03:38.314562Z",
     "iopub.status.busy": "2022-05-02T18:03:38.314284Z",
     "iopub.status.idle": "2022-05-02T18:03:38.755144Z",
     "shell.execute_reply": "2022-05-02T18:03:38.754390Z"
    },
    "id": "0Mt2lGg6iSSb",
    "papermill": {
     "duration": 0.489773,
     "end_time": "2022-05-02T18:03:38.757761",
     "exception": false,
     "start_time": "2022-05-02T18:03:38.267988",
     "status": "completed"
    },
    "tags": []
   },
   "outputs": [],
   "source": [
    "# import required libraries for clustering\n",
    "import sklearn\n",
    "from sklearn.preprocessing import StandardScaler\n",
    "from sklearn.cluster import KMeans\n",
    "from sklearn.metrics import silhouette_score\n",
    "from scipy.cluster.hierarchy import linkage\n",
    "from scipy.cluster.hierarchy import dendrogram\n",
    "from scipy.cluster.hierarchy import cut_tree"
   ]
  },
  {
   "cell_type": "code",
   "execution_count": 5,
   "id": "5fb78604",
   "metadata": {
    "execution": {
     "iopub.execute_input": "2022-05-02T18:03:38.851521Z",
     "iopub.status.busy": "2022-05-02T18:03:38.850657Z",
     "iopub.status.idle": "2022-05-02T18:04:14.145774Z",
     "shell.execute_reply": "2022-05-02T18:04:14.144220Z"
    },
    "id": "QQKqhkkJiSSb",
    "papermill": {
     "duration": 35.348212,
     "end_time": "2022-05-02T18:04:14.151461",
     "exception": false,
     "start_time": "2022-05-02T18:03:38.803249",
     "status": "completed"
    },
    "tags": []
   },
   "outputs": [],
   "source": [
    " \n",
    "\n",
    "transactions['InvoiceDate'] = pd.to_datetime(transactions['t_dat'],format='%Y-%m-%d')\n",
    "transactions=transactions[[\"InvoiceDate\", \"customer_id\", \"article_id\", \"price\",\"sales_channel_id\"]].drop_duplicates()"
   ]
  },
  {
   "cell_type": "code",
   "execution_count": 6,
   "id": "45304c70",
   "metadata": {
    "execution": {
     "iopub.execute_input": "2022-05-02T18:04:14.249134Z",
     "iopub.status.busy": "2022-05-02T18:04:14.248459Z",
     "iopub.status.idle": "2022-05-02T18:04:14.256641Z",
     "shell.execute_reply": "2022-05-02T18:04:14.255724Z"
    },
    "id": "aF90clwKiSSb",
    "papermill": {
     "duration": 0.059467,
     "end_time": "2022-05-02T18:04:14.259287",
     "exception": false,
     "start_time": "2022-05-02T18:04:14.199820",
     "status": "completed"
    },
    "tags": []
   },
   "outputs": [
    {
     "data": {
      "text/plain": [
       "(28813419, 5)"
      ]
     },
     "execution_count": 6,
     "metadata": {},
     "output_type": "execute_result"
    }
   ],
   "source": [
    "transactions.shape"
   ]
  },
  {
   "cell_type": "code",
   "execution_count": 7,
   "id": "a2b018be",
   "metadata": {
    "execution": {
     "iopub.execute_input": "2022-05-02T18:04:14.354046Z",
     "iopub.status.busy": "2022-05-02T18:04:14.353224Z",
     "iopub.status.idle": "2022-05-02T18:04:20.783846Z",
     "shell.execute_reply": "2022-05-02T18:04:20.782976Z"
    },
    "id": "EeOT6J7NiSSb",
    "outputId": "aa2d3f51-9d31-4389-fd3b-2324a1dfe7dd",
    "papermill": {
     "duration": 6.479342,
     "end_time": "2022-05-02T18:04:20.786025",
     "exception": false,
     "start_time": "2022-05-02T18:04:14.306683",
     "status": "completed"
    },
    "tags": []
   },
   "outputs": [
    {
     "data": {
      "text/plain": [
       "InvoiceDate         0.0\n",
       "customer_id         0.0\n",
       "article_id          0.0\n",
       "price               0.0\n",
       "sales_channel_id    0.0\n",
       "dtype: float64"
      ]
     },
     "execution_count": 7,
     "metadata": {},
     "output_type": "execute_result"
    }
   ],
   "source": [
    "# checking df's missing value's attribution in %\n",
    "df_null = round(100*(transactions.isnull().sum())/len(transactions), 2)\n",
    "df_null"
   ]
  },
  {
   "cell_type": "code",
   "execution_count": 8,
   "id": "9a640e60",
   "metadata": {
    "execution": {
     "iopub.execute_input": "2022-05-02T18:04:20.886678Z",
     "iopub.status.busy": "2022-05-02T18:04:20.886010Z",
     "iopub.status.idle": "2022-05-02T18:04:27.272313Z",
     "shell.execute_reply": "2022-05-02T18:04:27.271258Z"
    },
    "id": "pLU8uCLyiSSc",
    "outputId": "d0f4aefe-2b3e-4a98-b05c-d976dd89b03d",
    "papermill": {
     "duration": 6.438976,
     "end_time": "2022-05-02T18:04:27.274612",
     "exception": false,
     "start_time": "2022-05-02T18:04:20.835636",
     "status": "completed"
    },
    "tags": []
   },
   "outputs": [
    {
     "data": {
      "text/plain": [
       "InvoiceDate         0.0\n",
       "customer_id         0.0\n",
       "article_id          0.0\n",
       "price               0.0\n",
       "sales_channel_id    0.0\n",
       "dtype: float64"
      ]
     },
     "execution_count": 8,
     "metadata": {},
     "output_type": "execute_result"
    }
   ],
   "source": [
    "# checking df's missing value's attribution in %\n",
    "df_null = round(100*(transactions.isna().sum())/len(transactions), 2)\n",
    "df_null"
   ]
  },
  {
   "cell_type": "code",
   "execution_count": 9,
   "id": "dd0ef3fd",
   "metadata": {
    "execution": {
     "iopub.execute_input": "2022-05-02T18:04:27.367437Z",
     "iopub.status.busy": "2022-05-02T18:04:27.367152Z",
     "iopub.status.idle": "2022-05-02T18:04:27.370693Z",
     "shell.execute_reply": "2022-05-02T18:04:27.369796Z"
    },
    "id": "9Hg-XvvTiSSc",
    "papermill": {
     "duration": 0.052113,
     "end_time": "2022-05-02T18:04:27.372792",
     "exception": false,
     "start_time": "2022-05-02T18:04:27.320679",
     "status": "completed"
    },
    "tags": []
   },
   "outputs": [],
   "source": [
    "##Generate Invoice ID as combination of Customer id and Transaction Date.\n",
    "#transactions['_ID'] = transactions['customer_id']  + transactions['InvoiceDate'].astype(str) \n",
    "\n",
    "#transactions['Invoice_id'] = pd.factorize(transactions['_ID'])[0]\n"
   ]
  },
  {
   "cell_type": "code",
   "execution_count": 10,
   "id": "ce7029ff",
   "metadata": {
    "execution": {
     "iopub.execute_input": "2022-05-02T18:04:27.467135Z",
     "iopub.status.busy": "2022-05-02T18:04:27.466852Z",
     "iopub.status.idle": "2022-05-02T18:04:27.483497Z",
     "shell.execute_reply": "2022-05-02T18:04:27.482579Z"
    },
    "id": "YXLJTz4AiSSc",
    "outputId": "49fd7437-a2d2-43a1-d2b2-64f1e25c72c0",
    "papermill": {
     "duration": 0.067291,
     "end_time": "2022-05-02T18:04:27.485631",
     "exception": false,
     "start_time": "2022-05-02T18:04:27.418340",
     "status": "completed"
    },
    "tags": []
   },
   "outputs": [
    {
     "data": {
      "text/html": [
       "<div>\n",
       "<style scoped>\n",
       "    .dataframe tbody tr th:only-of-type {\n",
       "        vertical-align: middle;\n",
       "    }\n",
       "\n",
       "    .dataframe tbody tr th {\n",
       "        vertical-align: top;\n",
       "    }\n",
       "\n",
       "    .dataframe thead th {\n",
       "        text-align: right;\n",
       "    }\n",
       "</style>\n",
       "<table border=\"1\" class=\"dataframe\">\n",
       "  <thead>\n",
       "    <tr style=\"text-align: right;\">\n",
       "      <th></th>\n",
       "      <th>InvoiceDate</th>\n",
       "      <th>customer_id</th>\n",
       "      <th>article_id</th>\n",
       "      <th>price</th>\n",
       "      <th>sales_channel_id</th>\n",
       "    </tr>\n",
       "  </thead>\n",
       "  <tbody>\n",
       "    <tr>\n",
       "      <th>0</th>\n",
       "      <td>2018-09-20</td>\n",
       "      <td>000058a12d5b43e67d225668fa1f8d618c13dc232df0ca...</td>\n",
       "      <td>0663713001</td>\n",
       "      <td>0.050831</td>\n",
       "      <td>2</td>\n",
       "    </tr>\n",
       "    <tr>\n",
       "      <th>1</th>\n",
       "      <td>2018-09-20</td>\n",
       "      <td>000058a12d5b43e67d225668fa1f8d618c13dc232df0ca...</td>\n",
       "      <td>0541518023</td>\n",
       "      <td>0.030492</td>\n",
       "      <td>2</td>\n",
       "    </tr>\n",
       "    <tr>\n",
       "      <th>2</th>\n",
       "      <td>2018-09-20</td>\n",
       "      <td>00007d2de826758b65a93dd24ce629ed66842531df6699...</td>\n",
       "      <td>0505221004</td>\n",
       "      <td>0.015237</td>\n",
       "      <td>2</td>\n",
       "    </tr>\n",
       "    <tr>\n",
       "      <th>3</th>\n",
       "      <td>2018-09-20</td>\n",
       "      <td>00007d2de826758b65a93dd24ce629ed66842531df6699...</td>\n",
       "      <td>0685687003</td>\n",
       "      <td>0.016932</td>\n",
       "      <td>2</td>\n",
       "    </tr>\n",
       "    <tr>\n",
       "      <th>4</th>\n",
       "      <td>2018-09-20</td>\n",
       "      <td>00007d2de826758b65a93dd24ce629ed66842531df6699...</td>\n",
       "      <td>0685687004</td>\n",
       "      <td>0.016932</td>\n",
       "      <td>2</td>\n",
       "    </tr>\n",
       "  </tbody>\n",
       "</table>\n",
       "</div>"
      ],
      "text/plain": [
       "  InvoiceDate                                        customer_id  article_id  \\\n",
       "0  2018-09-20  000058a12d5b43e67d225668fa1f8d618c13dc232df0ca...  0663713001   \n",
       "1  2018-09-20  000058a12d5b43e67d225668fa1f8d618c13dc232df0ca...  0541518023   \n",
       "2  2018-09-20  00007d2de826758b65a93dd24ce629ed66842531df6699...  0505221004   \n",
       "3  2018-09-20  00007d2de826758b65a93dd24ce629ed66842531df6699...  0685687003   \n",
       "4  2018-09-20  00007d2de826758b65a93dd24ce629ed66842531df6699...  0685687004   \n",
       "\n",
       "      price  sales_channel_id  \n",
       "0  0.050831                 2  \n",
       "1  0.030492                 2  \n",
       "2  0.015237                 2  \n",
       "3  0.016932                 2  \n",
       "4  0.016932                 2  "
      ]
     },
     "execution_count": 10,
     "metadata": {},
     "output_type": "execute_result"
    }
   ],
   "source": [
    "transactions.head()"
   ]
  },
  {
   "cell_type": "code",
   "execution_count": 11,
   "id": "a1c39746",
   "metadata": {
    "execution": {
     "iopub.execute_input": "2022-05-02T18:04:27.583497Z",
     "iopub.status.busy": "2022-05-02T18:04:27.583220Z",
     "iopub.status.idle": "2022-05-02T18:04:27.587438Z",
     "shell.execute_reply": "2022-05-02T18:04:27.586354Z"
    },
    "id": "A_iSC30ciSSc",
    "papermill": {
     "duration": 0.056147,
     "end_time": "2022-05-02T18:04:27.589695",
     "exception": false,
     "start_time": "2022-05-02T18:04:27.533548",
     "status": "completed"
    },
    "tags": []
   },
   "outputs": [],
   "source": [
    "import datetime as dt"
   ]
  },
  {
   "cell_type": "code",
   "execution_count": 12,
   "id": "4302cf8a",
   "metadata": {
    "execution": {
     "iopub.execute_input": "2022-05-02T18:04:27.683102Z",
     "iopub.status.busy": "2022-05-02T18:04:27.682821Z",
     "iopub.status.idle": "2022-05-02T18:05:44.840453Z",
     "shell.execute_reply": "2022-05-02T18:05:44.839798Z"
    },
    "id": "80tJbpvtiSSd",
    "outputId": "5a970194-3aef-4982-86d3-d81b7da699d3",
    "papermill": {
     "duration": 77.255687,
     "end_time": "2022-05-02T18:05:44.891209",
     "exception": false,
     "start_time": "2022-05-02T18:04:27.635522",
     "status": "completed"
    },
    "tags": []
   },
   "outputs": [
    {
     "name": "stdout",
     "output_type": "stream",
     "text": [
      "2020-09-23\n"
     ]
    }
   ],
   "source": [
    "analysis_date = max(transactions['InvoiceDate']) + dt.timedelta(days= 1)\n",
    "print((analysis_date).date())"
   ]
  },
  {
   "cell_type": "code",
   "execution_count": 13,
   "id": "095efc78",
   "metadata": {
    "execution": {
     "iopub.execute_input": "2022-05-02T18:05:44.987273Z",
     "iopub.status.busy": "2022-05-02T18:05:44.986826Z",
     "iopub.status.idle": "2022-05-02T18:05:45.046813Z",
     "shell.execute_reply": "2022-05-02T18:05:45.045779Z"
    },
    "papermill": {
     "duration": 0.110642,
     "end_time": "2022-05-02T18:05:45.049302",
     "exception": false,
     "start_time": "2022-05-02T18:05:44.938660",
     "status": "completed"
    },
    "tags": []
   },
   "outputs": [],
   "source": [
    "transactions['date']=transactions['InvoiceDate']"
   ]
  },
  {
   "cell_type": "code",
   "execution_count": 14,
   "id": "d7b5fcd7",
   "metadata": {
    "execution": {
     "iopub.execute_input": "2022-05-02T18:05:45.164360Z",
     "iopub.status.busy": "2022-05-02T18:05:45.163832Z",
     "iopub.status.idle": "2022-05-02T18:08:32.250908Z",
     "shell.execute_reply": "2022-05-02T18:08:32.249669Z"
    },
    "id": "AEKQ9VhdiSSd",
    "outputId": "dcfe0e46-e912-4834-f2dd-158486b80d25",
    "papermill": {
     "duration": 167.153203,
     "end_time": "2022-05-02T18:08:32.255222",
     "exception": false,
     "start_time": "2022-05-02T18:05:45.102019",
     "status": "completed"
    },
    "scrolled": true,
    "tags": []
   },
   "outputs": [],
   "source": [
    "rfm = transactions.groupby('customer_id').agg({\n",
    "    'InvoiceDate': lambda x: (analysis_date - x.max()).days,\n",
    "    'date': 'count',\n",
    "    'price': 'sum'})\n",
    "#rfm.head()\n",
    "rfm.columns=[\"Recency\",\"Frequency\",\"Monetary\"]\n",
    "rfm = rfm[rfm[\"Monetary\"] > 0]\n",
    " \n",
    " #https://www.kaggle.com/code/kanberburak/rfm-analysis/notebook"
   ]
  },
  {
   "cell_type": "code",
   "execution_count": 15,
   "id": "1a838355",
   "metadata": {
    "execution": {
     "iopub.execute_input": "2022-05-02T18:08:32.356153Z",
     "iopub.status.busy": "2022-05-02T18:08:32.355661Z",
     "iopub.status.idle": "2022-05-02T18:08:32.367769Z",
     "shell.execute_reply": "2022-05-02T18:08:32.366866Z"
    },
    "papermill": {
     "duration": 0.064258,
     "end_time": "2022-05-02T18:08:32.369804",
     "exception": false,
     "start_time": "2022-05-02T18:08:32.305546",
     "status": "completed"
    },
    "tags": []
   },
   "outputs": [
    {
     "data": {
      "text/html": [
       "<div>\n",
       "<style scoped>\n",
       "    .dataframe tbody tr th:only-of-type {\n",
       "        vertical-align: middle;\n",
       "    }\n",
       "\n",
       "    .dataframe tbody tr th {\n",
       "        vertical-align: top;\n",
       "    }\n",
       "\n",
       "    .dataframe thead th {\n",
       "        text-align: right;\n",
       "    }\n",
       "</style>\n",
       "<table border=\"1\" class=\"dataframe\">\n",
       "  <thead>\n",
       "    <tr style=\"text-align: right;\">\n",
       "      <th></th>\n",
       "      <th>InvoiceDate</th>\n",
       "      <th>customer_id</th>\n",
       "      <th>article_id</th>\n",
       "      <th>price</th>\n",
       "      <th>sales_channel_id</th>\n",
       "      <th>date</th>\n",
       "    </tr>\n",
       "  </thead>\n",
       "  <tbody>\n",
       "    <tr>\n",
       "      <th>0</th>\n",
       "      <td>2018-09-20</td>\n",
       "      <td>000058a12d5b43e67d225668fa1f8d618c13dc232df0ca...</td>\n",
       "      <td>0663713001</td>\n",
       "      <td>0.050831</td>\n",
       "      <td>2</td>\n",
       "      <td>2018-09-20</td>\n",
       "    </tr>\n",
       "  </tbody>\n",
       "</table>\n",
       "</div>"
      ],
      "text/plain": [
       "  InvoiceDate                                        customer_id  article_id  \\\n",
       "0  2018-09-20  000058a12d5b43e67d225668fa1f8d618c13dc232df0ca...  0663713001   \n",
       "\n",
       "      price  sales_channel_id       date  \n",
       "0  0.050831                 2 2018-09-20  "
      ]
     },
     "execution_count": 15,
     "metadata": {},
     "output_type": "execute_result"
    }
   ],
   "source": [
    " transactions.head(1)"
   ]
  },
  {
   "cell_type": "code",
   "execution_count": 16,
   "id": "ac02dbb6",
   "metadata": {
    "execution": {
     "iopub.execute_input": "2022-05-02T18:08:32.468838Z",
     "iopub.status.busy": "2022-05-02T18:08:32.468373Z",
     "iopub.status.idle": "2022-05-02T18:08:33.202776Z",
     "shell.execute_reply": "2022-05-02T18:08:33.201807Z"
    },
    "id": "pnRGfaemiSSe",
    "outputId": "aa7c0df6-73e0-4cb7-bdaa-6019298e1c3f",
    "papermill": {
     "duration": 0.786993,
     "end_time": "2022-05-02T18:08:33.205038",
     "exception": false,
     "start_time": "2022-05-02T18:08:32.418045",
     "status": "completed"
    },
    "tags": []
   },
   "outputs": [
    {
     "data": {
      "text/html": [
       "<div>\n",
       "<style scoped>\n",
       "    .dataframe tbody tr th:only-of-type {\n",
       "        vertical-align: middle;\n",
       "    }\n",
       "\n",
       "    .dataframe tbody tr th {\n",
       "        vertical-align: top;\n",
       "    }\n",
       "\n",
       "    .dataframe thead th {\n",
       "        text-align: right;\n",
       "    }\n",
       "</style>\n",
       "<table border=\"1\" class=\"dataframe\">\n",
       "  <thead>\n",
       "    <tr style=\"text-align: right;\">\n",
       "      <th></th>\n",
       "      <th>Recency</th>\n",
       "      <th>Frequency</th>\n",
       "      <th>Monetary</th>\n",
       "      <th>recency_score</th>\n",
       "      <th>frequency_score</th>\n",
       "      <th>monetary_score</th>\n",
       "    </tr>\n",
       "    <tr>\n",
       "      <th>customer_id</th>\n",
       "      <th></th>\n",
       "      <th></th>\n",
       "      <th></th>\n",
       "      <th></th>\n",
       "      <th></th>\n",
       "      <th></th>\n",
       "    </tr>\n",
       "  </thead>\n",
       "  <tbody>\n",
       "    <tr>\n",
       "      <th>00000dbacae5abe5e23885899a1fa44253a17956c6d1c3d25f88aa139fdfc657</th>\n",
       "      <td>18</td>\n",
       "      <td>19</td>\n",
       "      <td>0.543932</td>\n",
       "      <td>5</td>\n",
       "      <td>4</td>\n",
       "      <td>4</td>\n",
       "    </tr>\n",
       "    <tr>\n",
       "      <th>0000423b00ade91418cceaf3b26c6af3dd342b51fd051eec9c12fb36984420fa</th>\n",
       "      <td>77</td>\n",
       "      <td>78</td>\n",
       "      <td>2.412237</td>\n",
       "      <td>4</td>\n",
       "      <td>5</td>\n",
       "      <td>5</td>\n",
       "    </tr>\n",
       "    <tr>\n",
       "      <th>000058a12d5b43e67d225668fa1f8d618c13dc232df0cad8ffe7ad4a1091e318</th>\n",
       "      <td>8</td>\n",
       "      <td>15</td>\n",
       "      <td>0.606525</td>\n",
       "      <td>5</td>\n",
       "      <td>4</td>\n",
       "      <td>4</td>\n",
       "    </tr>\n",
       "    <tr>\n",
       "      <th>00005ca1c9ed5f5146b52ac8639a40ca9d57aeff4d1bd2c5feb1ca5dff07c43e</th>\n",
       "      <td>472</td>\n",
       "      <td>2</td>\n",
       "      <td>0.060983</td>\n",
       "      <td>1</td>\n",
       "      <td>1</td>\n",
       "      <td>1</td>\n",
       "    </tr>\n",
       "    <tr>\n",
       "      <th>00006413d8573cd20ed7128e53b7b13819fe5cfc2d801fe7fc0f26dd8d65a85a</th>\n",
       "      <td>42</td>\n",
       "      <td>13</td>\n",
       "      <td>0.469695</td>\n",
       "      <td>4</td>\n",
       "      <td>3</td>\n",
       "      <td>4</td>\n",
       "    </tr>\n",
       "  </tbody>\n",
       "</table>\n",
       "</div>"
      ],
      "text/plain": [
       "                                                    Recency  Frequency  \\\n",
       "customer_id                                                              \n",
       "00000dbacae5abe5e23885899a1fa44253a17956c6d1c3d...       18         19   \n",
       "0000423b00ade91418cceaf3b26c6af3dd342b51fd051ee...       77         78   \n",
       "000058a12d5b43e67d225668fa1f8d618c13dc232df0cad...        8         15   \n",
       "00005ca1c9ed5f5146b52ac8639a40ca9d57aeff4d1bd2c...      472          2   \n",
       "00006413d8573cd20ed7128e53b7b13819fe5cfc2d801fe...       42         13   \n",
       "\n",
       "                                                    Monetary recency_score  \\\n",
       "customer_id                                                                  \n",
       "00000dbacae5abe5e23885899a1fa44253a17956c6d1c3d...  0.543932             5   \n",
       "0000423b00ade91418cceaf3b26c6af3dd342b51fd051ee...  2.412237             4   \n",
       "000058a12d5b43e67d225668fa1f8d618c13dc232df0cad...  0.606525             5   \n",
       "00005ca1c9ed5f5146b52ac8639a40ca9d57aeff4d1bd2c...  0.060983             1   \n",
       "00006413d8573cd20ed7128e53b7b13819fe5cfc2d801fe...  0.469695             4   \n",
       "\n",
       "                                                   frequency_score  \\\n",
       "customer_id                                                          \n",
       "00000dbacae5abe5e23885899a1fa44253a17956c6d1c3d...               4   \n",
       "0000423b00ade91418cceaf3b26c6af3dd342b51fd051ee...               5   \n",
       "000058a12d5b43e67d225668fa1f8d618c13dc232df0cad...               4   \n",
       "00005ca1c9ed5f5146b52ac8639a40ca9d57aeff4d1bd2c...               1   \n",
       "00006413d8573cd20ed7128e53b7b13819fe5cfc2d801fe...               3   \n",
       "\n",
       "                                                   monetary_score  \n",
       "customer_id                                                        \n",
       "00000dbacae5abe5e23885899a1fa44253a17956c6d1c3d...              4  \n",
       "0000423b00ade91418cceaf3b26c6af3dd342b51fd051ee...              5  \n",
       "000058a12d5b43e67d225668fa1f8d618c13dc232df0cad...              4  \n",
       "00005ca1c9ed5f5146b52ac8639a40ca9d57aeff4d1bd2c...              1  \n",
       "00006413d8573cd20ed7128e53b7b13819fe5cfc2d801fe...              4  "
      ]
     },
     "execution_count": 16,
     "metadata": {},
     "output_type": "execute_result"
    }
   ],
   "source": [
    "#Date from customer's last purchase.The nearest date gets 5 and the furthest date gets 1.\n",
    "rfm[\"recency_score\"] = pd.qcut(rfm['Recency'], 5, labels=[5, 4, 3, 2, 1])\n",
    "# Total number of purchases.The least frequency gets 1 and the maximum frequency gets 5.\n",
    "rfm[\"frequency_score\"] = pd.qcut(rfm[\"Frequency\"].rank(method=\"first\"), 5, labels=[1, 2, 3, 4, 5])\n",
    "#Total spend by the customer.The least money gets 1, the most money gets 5.\n",
    "rfm[\"monetary_score\"]= pd.qcut(rfm[\"Monetary\"],5,labels=[1,2,3,4,5])\n",
    "rfm.head()"
   ]
  },
  {
   "cell_type": "code",
   "execution_count": 17,
   "id": "0d9cddb9",
   "metadata": {
    "execution": {
     "iopub.execute_input": "2022-05-02T18:08:33.310593Z",
     "iopub.status.busy": "2022-05-02T18:08:33.310281Z",
     "iopub.status.idle": "2022-05-02T18:08:33.846669Z",
     "shell.execute_reply": "2022-05-02T18:08:33.845716Z"
    },
    "id": "a4vyxGgEiSSe",
    "papermill": {
     "duration": 0.592937,
     "end_time": "2022-05-02T18:08:33.849260",
     "exception": false,
     "start_time": "2022-05-02T18:08:33.256323",
     "status": "completed"
    },
    "tags": []
   },
   "outputs": [],
   "source": [
    "#RFM - The value of 2 different variables that were formed was recorded as a RFM_SCORE\n",
    "rfm[\"RFM_SCORE\"] = (rfm[\"recency_score\"].astype(str) + rfm[\"frequency_score\"].astype(str))"
   ]
  },
  {
   "cell_type": "code",
   "execution_count": 18,
   "id": "994d160d",
   "metadata": {
    "execution": {
     "iopub.execute_input": "2022-05-02T18:08:33.947512Z",
     "iopub.status.busy": "2022-05-02T18:08:33.947194Z",
     "iopub.status.idle": "2022-05-02T18:09:00.852156Z",
     "shell.execute_reply": "2022-05-02T18:09:00.851143Z"
    },
    "id": "Ro2LwGlxiSSe",
    "outputId": "49c3de02-fd99-4ac3-c035-02722e7db4d1",
    "papermill": {
     "duration": 26.957093,
     "end_time": "2022-05-02T18:09:00.854652",
     "exception": false,
     "start_time": "2022-05-02T18:08:33.897559",
     "status": "completed"
    },
    "tags": []
   },
   "outputs": [
    {
     "data": {
      "text/html": [
       "<div>\n",
       "<style scoped>\n",
       "    .dataframe tbody tr th:only-of-type {\n",
       "        vertical-align: middle;\n",
       "    }\n",
       "\n",
       "    .dataframe tbody tr th {\n",
       "        vertical-align: top;\n",
       "    }\n",
       "\n",
       "    .dataframe thead th {\n",
       "        text-align: right;\n",
       "    }\n",
       "</style>\n",
       "<table border=\"1\" class=\"dataframe\">\n",
       "  <thead>\n",
       "    <tr style=\"text-align: right;\">\n",
       "      <th></th>\n",
       "      <th>Recency</th>\n",
       "      <th>Frequency</th>\n",
       "      <th>Monetary</th>\n",
       "      <th>recency_score</th>\n",
       "      <th>frequency_score</th>\n",
       "      <th>monetary_score</th>\n",
       "      <th>RFM_SCORE</th>\n",
       "      <th>segment</th>\n",
       "    </tr>\n",
       "    <tr>\n",
       "      <th>customer_id</th>\n",
       "      <th></th>\n",
       "      <th></th>\n",
       "      <th></th>\n",
       "      <th></th>\n",
       "      <th></th>\n",
       "      <th></th>\n",
       "      <th></th>\n",
       "      <th></th>\n",
       "    </tr>\n",
       "  </thead>\n",
       "  <tbody>\n",
       "    <tr>\n",
       "      <th>00000dbacae5abe5e23885899a1fa44253a17956c6d1c3d25f88aa139fdfc657</th>\n",
       "      <td>18</td>\n",
       "      <td>19</td>\n",
       "      <td>0.543932</td>\n",
       "      <td>5</td>\n",
       "      <td>4</td>\n",
       "      <td>4</td>\n",
       "      <td>54</td>\n",
       "      <td>champions</td>\n",
       "    </tr>\n",
       "    <tr>\n",
       "      <th>0000423b00ade91418cceaf3b26c6af3dd342b51fd051eec9c12fb36984420fa</th>\n",
       "      <td>77</td>\n",
       "      <td>78</td>\n",
       "      <td>2.412237</td>\n",
       "      <td>4</td>\n",
       "      <td>5</td>\n",
       "      <td>5</td>\n",
       "      <td>45</td>\n",
       "      <td>loyal_customers</td>\n",
       "    </tr>\n",
       "    <tr>\n",
       "      <th>000058a12d5b43e67d225668fa1f8d618c13dc232df0cad8ffe7ad4a1091e318</th>\n",
       "      <td>8</td>\n",
       "      <td>15</td>\n",
       "      <td>0.606525</td>\n",
       "      <td>5</td>\n",
       "      <td>4</td>\n",
       "      <td>4</td>\n",
       "      <td>54</td>\n",
       "      <td>champions</td>\n",
       "    </tr>\n",
       "    <tr>\n",
       "      <th>00005ca1c9ed5f5146b52ac8639a40ca9d57aeff4d1bd2c5feb1ca5dff07c43e</th>\n",
       "      <td>472</td>\n",
       "      <td>2</td>\n",
       "      <td>0.060983</td>\n",
       "      <td>1</td>\n",
       "      <td>1</td>\n",
       "      <td>1</td>\n",
       "      <td>11</td>\n",
       "      <td>hibernating</td>\n",
       "    </tr>\n",
       "    <tr>\n",
       "      <th>00006413d8573cd20ed7128e53b7b13819fe5cfc2d801fe7fc0f26dd8d65a85a</th>\n",
       "      <td>42</td>\n",
       "      <td>13</td>\n",
       "      <td>0.469695</td>\n",
       "      <td>4</td>\n",
       "      <td>3</td>\n",
       "      <td>4</td>\n",
       "      <td>43</td>\n",
       "      <td>potential_loyalists</td>\n",
       "    </tr>\n",
       "  </tbody>\n",
       "</table>\n",
       "</div>"
      ],
      "text/plain": [
       "                                                    Recency  Frequency  \\\n",
       "customer_id                                                              \n",
       "00000dbacae5abe5e23885899a1fa44253a17956c6d1c3d...       18         19   \n",
       "0000423b00ade91418cceaf3b26c6af3dd342b51fd051ee...       77         78   \n",
       "000058a12d5b43e67d225668fa1f8d618c13dc232df0cad...        8         15   \n",
       "00005ca1c9ed5f5146b52ac8639a40ca9d57aeff4d1bd2c...      472          2   \n",
       "00006413d8573cd20ed7128e53b7b13819fe5cfc2d801fe...       42         13   \n",
       "\n",
       "                                                    Monetary recency_score  \\\n",
       "customer_id                                                                  \n",
       "00000dbacae5abe5e23885899a1fa44253a17956c6d1c3d...  0.543932             5   \n",
       "0000423b00ade91418cceaf3b26c6af3dd342b51fd051ee...  2.412237             4   \n",
       "000058a12d5b43e67d225668fa1f8d618c13dc232df0cad...  0.606525             5   \n",
       "00005ca1c9ed5f5146b52ac8639a40ca9d57aeff4d1bd2c...  0.060983             1   \n",
       "00006413d8573cd20ed7128e53b7b13819fe5cfc2d801fe...  0.469695             4   \n",
       "\n",
       "                                                   frequency_score  \\\n",
       "customer_id                                                          \n",
       "00000dbacae5abe5e23885899a1fa44253a17956c6d1c3d...               4   \n",
       "0000423b00ade91418cceaf3b26c6af3dd342b51fd051ee...               5   \n",
       "000058a12d5b43e67d225668fa1f8d618c13dc232df0cad...               4   \n",
       "00005ca1c9ed5f5146b52ac8639a40ca9d57aeff4d1bd2c...               1   \n",
       "00006413d8573cd20ed7128e53b7b13819fe5cfc2d801fe...               3   \n",
       "\n",
       "                                                   monetary_score RFM_SCORE  \\\n",
       "customer_id                                                                   \n",
       "00000dbacae5abe5e23885899a1fa44253a17956c6d1c3d...              4        54   \n",
       "0000423b00ade91418cceaf3b26c6af3dd342b51fd051ee...              5        45   \n",
       "000058a12d5b43e67d225668fa1f8d618c13dc232df0cad...              4        54   \n",
       "00005ca1c9ed5f5146b52ac8639a40ca9d57aeff4d1bd2c...              1        11   \n",
       "00006413d8573cd20ed7128e53b7b13819fe5cfc2d801fe...              4        43   \n",
       "\n",
       "                                                                segment  \n",
       "customer_id                                                              \n",
       "00000dbacae5abe5e23885899a1fa44253a17956c6d1c3d...            champions  \n",
       "0000423b00ade91418cceaf3b26c6af3dd342b51fd051ee...      loyal_customers  \n",
       "000058a12d5b43e67d225668fa1f8d618c13dc232df0cad...            champions  \n",
       "00005ca1c9ed5f5146b52ac8639a40ca9d57aeff4d1bd2c...          hibernating  \n",
       "00006413d8573cd20ed7128e53b7b13819fe5cfc2d801fe...  potential_loyalists  "
      ]
     },
     "execution_count": 18,
     "metadata": {},
     "output_type": "execute_result"
    }
   ],
   "source": [
    "seg_map = {\n",
    "    r'[1-2][1-2]': 'hibernating',\n",
    "    r'[1-2][3-4]': 'at_Risk',\n",
    "    r'[1-2]5': 'cant_loose',\n",
    "    r'3[1-2]': 'about_to_sleep',\n",
    "    r'33': 'need_attention',\n",
    "    r'[3-4][4-5]': 'loyal_customers',\n",
    "    r'41': 'promising',\n",
    "    r'51': 'new_customers',\n",
    "    r'[4-5][2-3]': 'potential_loyalists',\n",
    "    r'5[4-5]': 'champions'\n",
    "}\n",
    "rfm['segment'] = rfm['RFM_SCORE'].replace(seg_map, regex=True)\n",
    "rfm.head()"
   ]
  },
  {
   "cell_type": "code",
   "execution_count": 19,
   "id": "10243e19",
   "metadata": {
    "execution": {
     "iopub.execute_input": "2022-05-02T18:09:00.954859Z",
     "iopub.status.busy": "2022-05-02T18:09:00.954553Z",
     "iopub.status.idle": "2022-05-02T18:09:01.267903Z",
     "shell.execute_reply": "2022-05-02T18:09:01.266688Z"
    },
    "id": "9ttdWHb3iSSe",
    "outputId": "1c5914c8-6af9-4344-f980-4ec268636b3e",
    "papermill": {
     "duration": 0.366716,
     "end_time": "2022-05-02T18:09:01.270356",
     "exception": false,
     "start_time": "2022-05-02T18:09:00.903640",
     "status": "completed"
    },
    "tags": []
   },
   "outputs": [
    {
     "data": {
      "text/html": [
       "<div>\n",
       "<style scoped>\n",
       "    .dataframe tbody tr th:only-of-type {\n",
       "        vertical-align: middle;\n",
       "    }\n",
       "\n",
       "    .dataframe tbody tr th {\n",
       "        vertical-align: top;\n",
       "    }\n",
       "\n",
       "    .dataframe thead tr th {\n",
       "        text-align: left;\n",
       "    }\n",
       "\n",
       "    .dataframe thead tr:last-of-type th {\n",
       "        text-align: right;\n",
       "    }\n",
       "</style>\n",
       "<table border=\"1\" class=\"dataframe\">\n",
       "  <thead>\n",
       "    <tr>\n",
       "      <th></th>\n",
       "      <th colspan=\"3\" halign=\"left\">Recency</th>\n",
       "      <th colspan=\"3\" halign=\"left\">Frequency</th>\n",
       "      <th colspan=\"3\" halign=\"left\">Monetary</th>\n",
       "    </tr>\n",
       "    <tr>\n",
       "      <th></th>\n",
       "      <th>mean</th>\n",
       "      <th>count</th>\n",
       "      <th>max</th>\n",
       "      <th>mean</th>\n",
       "      <th>count</th>\n",
       "      <th>max</th>\n",
       "      <th>mean</th>\n",
       "      <th>count</th>\n",
       "      <th>max</th>\n",
       "    </tr>\n",
       "    <tr>\n",
       "      <th>segment</th>\n",
       "      <th></th>\n",
       "      <th></th>\n",
       "      <th></th>\n",
       "      <th></th>\n",
       "      <th></th>\n",
       "      <th></th>\n",
       "      <th></th>\n",
       "      <th></th>\n",
       "      <th></th>\n",
       "    </tr>\n",
       "  </thead>\n",
       "  <tbody>\n",
       "    <tr>\n",
       "      <th>about_to_sleep</th>\n",
       "      <td>161.0</td>\n",
       "      <td>106645</td>\n",
       "      <td>231</td>\n",
       "      <td>3.0</td>\n",
       "      <td>106645</td>\n",
       "      <td>6</td>\n",
       "      <td>0.0</td>\n",
       "      <td>106645</td>\n",
       "      <td>1.0</td>\n",
       "    </tr>\n",
       "    <tr>\n",
       "      <th>at_Risk</th>\n",
       "      <td>432.0</td>\n",
       "      <td>182709</td>\n",
       "      <td>734</td>\n",
       "      <td>12.0</td>\n",
       "      <td>182709</td>\n",
       "      <td>31</td>\n",
       "      <td>0.0</td>\n",
       "      <td>182709</td>\n",
       "      <td>4.0</td>\n",
       "    </tr>\n",
       "    <tr>\n",
       "      <th>cant_loose</th>\n",
       "      <td>342.0</td>\n",
       "      <td>16727</td>\n",
       "      <td>734</td>\n",
       "      <td>50.0</td>\n",
       "      <td>16727</td>\n",
       "      <td>691</td>\n",
       "      <td>1.0</td>\n",
       "      <td>16727</td>\n",
       "      <td>20.0</td>\n",
       "    </tr>\n",
       "    <tr>\n",
       "      <th>champions</th>\n",
       "      <td>16.0</td>\n",
       "      <td>199755</td>\n",
       "      <td>35</td>\n",
       "      <td>62.0</td>\n",
       "      <td>199755</td>\n",
       "      <td>1641</td>\n",
       "      <td>2.0</td>\n",
       "      <td>199755</td>\n",
       "      <td>49.0</td>\n",
       "    </tr>\n",
       "    <tr>\n",
       "      <th>hibernating</th>\n",
       "      <td>500.0</td>\n",
       "      <td>345298</td>\n",
       "      <td>734</td>\n",
       "      <td>3.0</td>\n",
       "      <td>345298</td>\n",
       "      <td>6</td>\n",
       "      <td>0.0</td>\n",
       "      <td>345298</td>\n",
       "      <td>2.0</td>\n",
       "    </tr>\n",
       "    <tr>\n",
       "      <th>loyal_customers</th>\n",
       "      <td>96.0</td>\n",
       "      <td>266159</td>\n",
       "      <td>231</td>\n",
       "      <td>40.0</td>\n",
       "      <td>266159</td>\n",
       "      <td>642</td>\n",
       "      <td>1.0</td>\n",
       "      <td>266159</td>\n",
       "      <td>22.0</td>\n",
       "    </tr>\n",
       "    <tr>\n",
       "      <th>need_attention</th>\n",
       "      <td>155.0</td>\n",
       "      <td>63654</td>\n",
       "      <td>231</td>\n",
       "      <td>9.0</td>\n",
       "      <td>63654</td>\n",
       "      <td>13</td>\n",
       "      <td>0.0</td>\n",
       "      <td>63654</td>\n",
       "      <td>2.0</td>\n",
       "    </tr>\n",
       "    <tr>\n",
       "      <th>new_customers</th>\n",
       "      <td>17.0</td>\n",
       "      <td>15946</td>\n",
       "      <td>35</td>\n",
       "      <td>1.0</td>\n",
       "      <td>15946</td>\n",
       "      <td>2</td>\n",
       "      <td>0.0</td>\n",
       "      <td>15946</td>\n",
       "      <td>1.0</td>\n",
       "    </tr>\n",
       "    <tr>\n",
       "      <th>potential_loyalists</th>\n",
       "      <td>48.0</td>\n",
       "      <td>143348</td>\n",
       "      <td>96</td>\n",
       "      <td>7.0</td>\n",
       "      <td>143348</td>\n",
       "      <td>13</td>\n",
       "      <td>0.0</td>\n",
       "      <td>143348</td>\n",
       "      <td>2.0</td>\n",
       "    </tr>\n",
       "    <tr>\n",
       "      <th>promising</th>\n",
       "      <td>68.0</td>\n",
       "      <td>22040</td>\n",
       "      <td>96</td>\n",
       "      <td>2.0</td>\n",
       "      <td>22040</td>\n",
       "      <td>2</td>\n",
       "      <td>0.0</td>\n",
       "      <td>22040</td>\n",
       "      <td>0.0</td>\n",
       "    </tr>\n",
       "  </tbody>\n",
       "</table>\n",
       "</div>"
      ],
      "text/plain": [
       "                    Recency              Frequency               Monetary  \\\n",
       "                       mean   count  max      mean   count   max     mean   \n",
       "segment                                                                     \n",
       "about_to_sleep        161.0  106645  231       3.0  106645     6      0.0   \n",
       "at_Risk               432.0  182709  734      12.0  182709    31      0.0   \n",
       "cant_loose            342.0   16727  734      50.0   16727   691      1.0   \n",
       "champions              16.0  199755   35      62.0  199755  1641      2.0   \n",
       "hibernating           500.0  345298  734       3.0  345298     6      0.0   \n",
       "loyal_customers        96.0  266159  231      40.0  266159   642      1.0   \n",
       "need_attention        155.0   63654  231       9.0   63654    13      0.0   \n",
       "new_customers          17.0   15946   35       1.0   15946     2      0.0   \n",
       "potential_loyalists    48.0  143348   96       7.0  143348    13      0.0   \n",
       "promising              68.0   22040   96       2.0   22040     2      0.0   \n",
       "\n",
       "                                   \n",
       "                      count   max  \n",
       "segment                            \n",
       "about_to_sleep       106645   1.0  \n",
       "at_Risk              182709   4.0  \n",
       "cant_loose            16727  20.0  \n",
       "champions            199755  49.0  \n",
       "hibernating          345298   2.0  \n",
       "loyal_customers      266159  22.0  \n",
       "need_attention        63654   2.0  \n",
       "new_customers         15946   1.0  \n",
       "potential_loyalists  143348   2.0  \n",
       "promising             22040   0.0  "
      ]
     },
     "execution_count": 19,
     "metadata": {},
     "output_type": "execute_result"
    }
   ],
   "source": [
    "rfm[[\"segment\", \"Recency\",\"Frequency\",\"Monetary\"]].groupby(\"segment\").agg([\"mean\",\"count\",\"max\"]).round()"
   ]
  },
  {
   "cell_type": "code",
   "execution_count": 20,
   "id": "62bcf911",
   "metadata": {
    "execution": {
     "iopub.execute_input": "2022-05-02T18:09:01.372699Z",
     "iopub.status.busy": "2022-05-02T18:09:01.371977Z",
     "iopub.status.idle": "2022-05-02T18:09:02.891516Z",
     "shell.execute_reply": "2022-05-02T18:09:02.890568Z"
    },
    "papermill": {
     "duration": 1.574221,
     "end_time": "2022-05-02T18:09:02.894166",
     "exception": false,
     "start_time": "2022-05-02T18:09:01.319945",
     "status": "completed"
    },
    "tags": []
   },
   "outputs": [],
   "source": [
    "import plotly.express as px\n"
   ]
  },
  {
   "cell_type": "code",
   "execution_count": 21,
   "id": "954a4b3b",
   "metadata": {
    "execution": {
     "iopub.execute_input": "2022-05-02T18:09:02.999396Z",
     "iopub.status.busy": "2022-05-02T18:09:02.999095Z",
     "iopub.status.idle": "2022-05-02T18:09:04.340427Z",
     "shell.execute_reply": "2022-05-02T18:09:04.339490Z"
    },
    "id": "PxWJfAXYiSSe",
    "outputId": "a401b730-69e5-4111-92df-ce217d745761",
    "papermill": {
     "duration": 1.396671,
     "end_time": "2022-05-02T18:09:04.342608",
     "exception": false,
     "start_time": "2022-05-02T18:09:02.945937",
     "status": "completed"
    },
    "tags": []
   },
   "outputs": [
    {
     "data": {
      "text/html": [
       "        <script type=\"text/javascript\">\n",
       "        window.PlotlyConfig = {MathJaxConfig: 'local'};\n",
       "        if (window.MathJax) {MathJax.Hub.Config({SVG: {font: \"STIX-Web\"}});}\n",
       "        if (typeof require !== 'undefined') {\n",
       "        require.undef(\"plotly\");\n",
       "        requirejs.config({\n",
       "            paths: {\n",
       "                'plotly': ['https://cdn.plot.ly/plotly-2.11.1.min']\n",
       "            }\n",
       "        });\n",
       "        require(['plotly'], function(Plotly) {\n",
       "            window._Plotly = Plotly;\n",
       "        });\n",
       "        }\n",
       "        </script>\n",
       "        "
      ]
     },
     "metadata": {},
     "output_type": "display_data"
    },
    {
     "data": {
      "text/html": [
       "<div>                            <div id=\"6b591bbe-7ab1-4b14-a98d-aea0265f2e3b\" class=\"plotly-graph-div\" style=\"height:525px; width:100%;\"></div>            <script type=\"text/javascript\">                require([\"plotly\"], function(Plotly) {                    window.PLOTLYENV=window.PLOTLYENV || {};                                    if (document.getElementById(\"6b591bbe-7ab1-4b14-a98d-aea0265f2e3b\")) {                    Plotly.newPlot(                        \"6b591bbe-7ab1-4b14-a98d-aea0265f2e3b\",                        [{\"branchvalues\":\"total\",\"domain\":{\"x\":[0.0,1.0],\"y\":[0.0,1.0]},\"hovertemplate\":\"labels=%{label}<br>value=%{value}<br>parent=%{parent}<br>id=%{id}<extra></extra>\",\"ids\":[\"about_to_sleep\",\"at_Risk\",\"cant_loose\",\"champions\",\"hibernating\",\"loyal_customers\",\"need_attention\",\"new_customers\",\"potential_loyalists\",\"promising\"],\"labels\":[\"about_to_sleep\",\"at_Risk\",\"cant_loose\",\"champions\",\"hibernating\",\"loyal_customers\",\"need_attention\",\"new_customers\",\"potential_loyalists\",\"promising\"],\"name\":\"\",\"parents\":[\"\",\"\",\"\",\"\",\"\",\"\",\"\",\"\",\"\",\"\"],\"values\":[106645,182709,16727,199755,345298,266159,63654,15946,143348,22040],\"type\":\"treemap\",\"textinfo\":\"label+value+percent root\"}],                        {\"template\":{\"data\":{\"histogram2dcontour\":[{\"type\":\"histogram2dcontour\",\"colorbar\":{\"outlinewidth\":0,\"ticks\":\"\"},\"colorscale\":[[0.0,\"#0d0887\"],[0.1111111111111111,\"#46039f\"],[0.2222222222222222,\"#7201a8\"],[0.3333333333333333,\"#9c179e\"],[0.4444444444444444,\"#bd3786\"],[0.5555555555555556,\"#d8576b\"],[0.6666666666666666,\"#ed7953\"],[0.7777777777777778,\"#fb9f3a\"],[0.8888888888888888,\"#fdca26\"],[1.0,\"#f0f921\"]]}],\"choropleth\":[{\"type\":\"choropleth\",\"colorbar\":{\"outlinewidth\":0,\"ticks\":\"\"}}],\"histogram2d\":[{\"type\":\"histogram2d\",\"colorbar\":{\"outlinewidth\":0,\"ticks\":\"\"},\"colorscale\":[[0.0,\"#0d0887\"],[0.1111111111111111,\"#46039f\"],[0.2222222222222222,\"#7201a8\"],[0.3333333333333333,\"#9c179e\"],[0.4444444444444444,\"#bd3786\"],[0.5555555555555556,\"#d8576b\"],[0.6666666666666666,\"#ed7953\"],[0.7777777777777778,\"#fb9f3a\"],[0.8888888888888888,\"#fdca26\"],[1.0,\"#f0f921\"]]}],\"heatmap\":[{\"type\":\"heatmap\",\"colorbar\":{\"outlinewidth\":0,\"ticks\":\"\"},\"colorscale\":[[0.0,\"#0d0887\"],[0.1111111111111111,\"#46039f\"],[0.2222222222222222,\"#7201a8\"],[0.3333333333333333,\"#9c179e\"],[0.4444444444444444,\"#bd3786\"],[0.5555555555555556,\"#d8576b\"],[0.6666666666666666,\"#ed7953\"],[0.7777777777777778,\"#fb9f3a\"],[0.8888888888888888,\"#fdca26\"],[1.0,\"#f0f921\"]]}],\"heatmapgl\":[{\"type\":\"heatmapgl\",\"colorbar\":{\"outlinewidth\":0,\"ticks\":\"\"},\"colorscale\":[[0.0,\"#0d0887\"],[0.1111111111111111,\"#46039f\"],[0.2222222222222222,\"#7201a8\"],[0.3333333333333333,\"#9c179e\"],[0.4444444444444444,\"#bd3786\"],[0.5555555555555556,\"#d8576b\"],[0.6666666666666666,\"#ed7953\"],[0.7777777777777778,\"#fb9f3a\"],[0.8888888888888888,\"#fdca26\"],[1.0,\"#f0f921\"]]}],\"contourcarpet\":[{\"type\":\"contourcarpet\",\"colorbar\":{\"outlinewidth\":0,\"ticks\":\"\"}}],\"contour\":[{\"type\":\"contour\",\"colorbar\":{\"outlinewidth\":0,\"ticks\":\"\"},\"colorscale\":[[0.0,\"#0d0887\"],[0.1111111111111111,\"#46039f\"],[0.2222222222222222,\"#7201a8\"],[0.3333333333333333,\"#9c179e\"],[0.4444444444444444,\"#bd3786\"],[0.5555555555555556,\"#d8576b\"],[0.6666666666666666,\"#ed7953\"],[0.7777777777777778,\"#fb9f3a\"],[0.8888888888888888,\"#fdca26\"],[1.0,\"#f0f921\"]]}],\"surface\":[{\"type\":\"surface\",\"colorbar\":{\"outlinewidth\":0,\"ticks\":\"\"},\"colorscale\":[[0.0,\"#0d0887\"],[0.1111111111111111,\"#46039f\"],[0.2222222222222222,\"#7201a8\"],[0.3333333333333333,\"#9c179e\"],[0.4444444444444444,\"#bd3786\"],[0.5555555555555556,\"#d8576b\"],[0.6666666666666666,\"#ed7953\"],[0.7777777777777778,\"#fb9f3a\"],[0.8888888888888888,\"#fdca26\"],[1.0,\"#f0f921\"]]}],\"mesh3d\":[{\"type\":\"mesh3d\",\"colorbar\":{\"outlinewidth\":0,\"ticks\":\"\"}}],\"scatter\":[{\"fillpattern\":{\"fillmode\":\"overlay\",\"size\":10,\"solidity\":0.2},\"type\":\"scatter\"}],\"parcoords\":[{\"type\":\"parcoords\",\"line\":{\"colorbar\":{\"outlinewidth\":0,\"ticks\":\"\"}}}],\"scatterpolargl\":[{\"type\":\"scatterpolargl\",\"marker\":{\"colorbar\":{\"outlinewidth\":0,\"ticks\":\"\"}}}],\"bar\":[{\"error_x\":{\"color\":\"#2a3f5f\"},\"error_y\":{\"color\":\"#2a3f5f\"},\"marker\":{\"line\":{\"color\":\"#E5ECF6\",\"width\":0.5},\"pattern\":{\"fillmode\":\"overlay\",\"size\":10,\"solidity\":0.2}},\"type\":\"bar\"}],\"scattergeo\":[{\"type\":\"scattergeo\",\"marker\":{\"colorbar\":{\"outlinewidth\":0,\"ticks\":\"\"}}}],\"scatterpolar\":[{\"type\":\"scatterpolar\",\"marker\":{\"colorbar\":{\"outlinewidth\":0,\"ticks\":\"\"}}}],\"histogram\":[{\"marker\":{\"pattern\":{\"fillmode\":\"overlay\",\"size\":10,\"solidity\":0.2}},\"type\":\"histogram\"}],\"scattergl\":[{\"type\":\"scattergl\",\"marker\":{\"colorbar\":{\"outlinewidth\":0,\"ticks\":\"\"}}}],\"scatter3d\":[{\"type\":\"scatter3d\",\"line\":{\"colorbar\":{\"outlinewidth\":0,\"ticks\":\"\"}},\"marker\":{\"colorbar\":{\"outlinewidth\":0,\"ticks\":\"\"}}}],\"scattermapbox\":[{\"type\":\"scattermapbox\",\"marker\":{\"colorbar\":{\"outlinewidth\":0,\"ticks\":\"\"}}}],\"scatterternary\":[{\"type\":\"scatterternary\",\"marker\":{\"colorbar\":{\"outlinewidth\":0,\"ticks\":\"\"}}}],\"scattercarpet\":[{\"type\":\"scattercarpet\",\"marker\":{\"colorbar\":{\"outlinewidth\":0,\"ticks\":\"\"}}}],\"carpet\":[{\"aaxis\":{\"endlinecolor\":\"#2a3f5f\",\"gridcolor\":\"white\",\"linecolor\":\"white\",\"minorgridcolor\":\"white\",\"startlinecolor\":\"#2a3f5f\"},\"baxis\":{\"endlinecolor\":\"#2a3f5f\",\"gridcolor\":\"white\",\"linecolor\":\"white\",\"minorgridcolor\":\"white\",\"startlinecolor\":\"#2a3f5f\"},\"type\":\"carpet\"}],\"table\":[{\"cells\":{\"fill\":{\"color\":\"#EBF0F8\"},\"line\":{\"color\":\"white\"}},\"header\":{\"fill\":{\"color\":\"#C8D4E3\"},\"line\":{\"color\":\"white\"}},\"type\":\"table\"}],\"barpolar\":[{\"marker\":{\"line\":{\"color\":\"#E5ECF6\",\"width\":0.5},\"pattern\":{\"fillmode\":\"overlay\",\"size\":10,\"solidity\":0.2}},\"type\":\"barpolar\"}],\"pie\":[{\"automargin\":true,\"type\":\"pie\"}]},\"layout\":{\"autotypenumbers\":\"strict\",\"colorway\":[\"#636efa\",\"#EF553B\",\"#00cc96\",\"#ab63fa\",\"#FFA15A\",\"#19d3f3\",\"#FF6692\",\"#B6E880\",\"#FF97FF\",\"#FECB52\"],\"font\":{\"color\":\"#2a3f5f\"},\"hovermode\":\"closest\",\"hoverlabel\":{\"align\":\"left\"},\"paper_bgcolor\":\"white\",\"plot_bgcolor\":\"#E5ECF6\",\"polar\":{\"bgcolor\":\"#E5ECF6\",\"angularaxis\":{\"gridcolor\":\"white\",\"linecolor\":\"white\",\"ticks\":\"\"},\"radialaxis\":{\"gridcolor\":\"white\",\"linecolor\":\"white\",\"ticks\":\"\"}},\"ternary\":{\"bgcolor\":\"#E5ECF6\",\"aaxis\":{\"gridcolor\":\"white\",\"linecolor\":\"white\",\"ticks\":\"\"},\"baxis\":{\"gridcolor\":\"white\",\"linecolor\":\"white\",\"ticks\":\"\"},\"caxis\":{\"gridcolor\":\"white\",\"linecolor\":\"white\",\"ticks\":\"\"}},\"coloraxis\":{\"colorbar\":{\"outlinewidth\":0,\"ticks\":\"\"}},\"colorscale\":{\"sequential\":[[0.0,\"#0d0887\"],[0.1111111111111111,\"#46039f\"],[0.2222222222222222,\"#7201a8\"],[0.3333333333333333,\"#9c179e\"],[0.4444444444444444,\"#bd3786\"],[0.5555555555555556,\"#d8576b\"],[0.6666666666666666,\"#ed7953\"],[0.7777777777777778,\"#fb9f3a\"],[0.8888888888888888,\"#fdca26\"],[1.0,\"#f0f921\"]],\"sequentialminus\":[[0.0,\"#0d0887\"],[0.1111111111111111,\"#46039f\"],[0.2222222222222222,\"#7201a8\"],[0.3333333333333333,\"#9c179e\"],[0.4444444444444444,\"#bd3786\"],[0.5555555555555556,\"#d8576b\"],[0.6666666666666666,\"#ed7953\"],[0.7777777777777778,\"#fb9f3a\"],[0.8888888888888888,\"#fdca26\"],[1.0,\"#f0f921\"]],\"diverging\":[[0,\"#8e0152\"],[0.1,\"#c51b7d\"],[0.2,\"#de77ae\"],[0.3,\"#f1b6da\"],[0.4,\"#fde0ef\"],[0.5,\"#f7f7f7\"],[0.6,\"#e6f5d0\"],[0.7,\"#b8e186\"],[0.8,\"#7fbc41\"],[0.9,\"#4d9221\"],[1,\"#276419\"]]},\"xaxis\":{\"gridcolor\":\"white\",\"linecolor\":\"white\",\"ticks\":\"\",\"title\":{\"standoff\":15},\"zerolinecolor\":\"white\",\"automargin\":true,\"zerolinewidth\":2},\"yaxis\":{\"gridcolor\":\"white\",\"linecolor\":\"white\",\"ticks\":\"\",\"title\":{\"standoff\":15},\"zerolinecolor\":\"white\",\"automargin\":true,\"zerolinewidth\":2},\"scene\":{\"xaxis\":{\"backgroundcolor\":\"#E5ECF6\",\"gridcolor\":\"white\",\"linecolor\":\"white\",\"showbackground\":true,\"ticks\":\"\",\"zerolinecolor\":\"white\",\"gridwidth\":2},\"yaxis\":{\"backgroundcolor\":\"#E5ECF6\",\"gridcolor\":\"white\",\"linecolor\":\"white\",\"showbackground\":true,\"ticks\":\"\",\"zerolinecolor\":\"white\",\"gridwidth\":2},\"zaxis\":{\"backgroundcolor\":\"#E5ECF6\",\"gridcolor\":\"white\",\"linecolor\":\"white\",\"showbackground\":true,\"ticks\":\"\",\"zerolinecolor\":\"white\",\"gridwidth\":2}},\"shapedefaults\":{\"line\":{\"color\":\"#2a3f5f\"}},\"annotationdefaults\":{\"arrowcolor\":\"#2a3f5f\",\"arrowhead\":0,\"arrowwidth\":1},\"geo\":{\"bgcolor\":\"white\",\"landcolor\":\"#E5ECF6\",\"subunitcolor\":\"white\",\"showland\":true,\"showlakes\":true,\"lakecolor\":\"white\"},\"title\":{\"x\":0.05},\"mapbox\":{\"style\":\"light\"}}},\"legend\":{\"tracegroupgap\":0},\"margin\":{\"t\":60},\"title\":{\"font\":{\"size\":20},\"text\":\"Distribution of the RFM Segments\",\"x\":0.5}},                        {\"responsive\": true}                    ).then(function(){\n",
       "                            \n",
       "var gd = document.getElementById('6b591bbe-7ab1-4b14-a98d-aea0265f2e3b');\n",
       "var x = new MutationObserver(function (mutations, observer) {{\n",
       "        var display = window.getComputedStyle(gd).display;\n",
       "        if (!display || display === 'none') {{\n",
       "            console.log([gd, 'removed!']);\n",
       "            Plotly.purge(gd);\n",
       "            observer.disconnect();\n",
       "        }}\n",
       "}});\n",
       "\n",
       "// Listen for the removal of the full notebook cells\n",
       "var notebookContainer = gd.closest('#notebook-container');\n",
       "if (notebookContainer) {{\n",
       "    x.observe(notebookContainer, {childList: true});\n",
       "}}\n",
       "\n",
       "// Listen for the clearing of the current output cell\n",
       "var outputEl = gd.closest('.output');\n",
       "if (outputEl) {{\n",
       "    x.observe(outputEl, {childList: true});\n",
       "}}\n",
       "\n",
       "                        })                };                });            </script>        </div>"
      ]
     },
     "metadata": {},
     "output_type": "display_data"
    }
   ],
   "source": [
    " \n",
    "x = rfm.segment.value_counts()\n",
    "fig = px.treemap(x, path=[x.index], values=x)\n",
    "fig.update_layout(title_text='Distribution of the RFM Segments', title_x=0.5,\n",
    "                  title_font=dict(size=20))\n",
    "fig.update_traces(textinfo=\"label+value+percent root\")\n",
    "fig.show()"
   ]
  },
  {
   "cell_type": "markdown",
   "id": "b292ea05",
   "metadata": {
    "id": "H2OHNccQiSSk",
    "papermill": {
     "duration": 0.051369,
     "end_time": "2022-05-02T18:09:04.447137",
     "exception": false,
     "start_time": "2022-05-02T18:09:04.395768",
     "status": "completed"
    },
    "tags": []
   },
   "source": [
    "# Recommend Items Frequently Purchased Together\n"
   ]
  },
  {
   "cell_type": "markdown",
   "id": "9f6b289d",
   "metadata": {
    "id": "aCwziCbEiSSk",
    "papermill": {
     "duration": 0.050144,
     "end_time": "2022-05-02T18:09:04.550241",
     "exception": false,
     "start_time": "2022-05-02T18:09:04.500097",
     "status": "completed"
    },
    "tags": []
   },
   "source": [
    "Item-Item Based Collaborative Filtering\n",
    "\n",
    "* Objective-To produce recommendations of Items for Hibernating customer-User 5(from RFM) for their upcoming purchase. \n",
    "\n",
    "Step 1- Matrix Factorization.\n",
    "The Entries in table are based on time-adjusted count of # of purchase by user- item A bought 5 times on the first day of the train period is inferior to item B bought 4 times on the last day of the train period. This is done by weighted down exponentially by day of purchase\n",
    "\n",
    "Step 2- See Recommendation as optimization problem, Rating Prediction-make good Recommendation or prediction.\n",
    "Quantify Goodness using RMSE:\n",
    "Lower RMSE =>better recommendation.\n",
    "Want to make good recommendation on items that user has not yet seen or purchase before(example – Hibernating customer-User 5 from RFM). Purely based on Popularity of the item. How we do?\n",
    "\n",
    "Let’s build a system such that it works well on known (User, Product) rating/purchase counts. And hope the system will also predict well the unknown ratings.\n",
    "\n",
    "Done by optimization method– Epoch. Then use this system to predict/recommend items unknown users\n",
    "\n",
    "Use Latent Factor Model like SVD to Dimension Reduction, handling nulls.\n",
    "Now this is can be assumed as vector space in 2D\n",
    "And we can calculate the distant of two point using Cosine-get the nearest neighbor.\n",
    "\n",
    "Step 6-Use this system/model to predict hibernating users-User 5 recommendation.\n",
    "\n",
    "Concept based on -\n",
    "\n",
    "https://www.youtube.com/watch?v=E8aMcwmqsTg \n",
    "\n",
    "\n",
    "\n",
    "https://www.analyticsvidhya.com/blog/2021/07/recommendation-system-understanding-the-basic-concepts/#:~:text=A%20recommendation%20system%20is%20a,suggests%20relevant%20items%20to%20users."
   ]
  },
  {
   "cell_type": "markdown",
   "id": "848ffa6d",
   "metadata": {
    "papermill": {
     "duration": 0.0508,
     "end_time": "2022-05-02T18:09:04.651699",
     "exception": false,
     "start_time": "2022-05-02T18:09:04.600899",
     "status": "completed"
    },
    "tags": []
   },
   "source": [
    "![](https://github.com/techanalyst84/customer-analytics-project/blob/main/Recommendator%201.jpg?raw=true)"
   ]
  },
  {
   "cell_type": "markdown",
   "id": "3ece9684",
   "metadata": {
    "papermill": {
     "duration": 0.051615,
     "end_time": "2022-05-02T18:09:04.754611",
     "exception": false,
     "start_time": "2022-05-02T18:09:04.702996",
     "status": "completed"
    },
    "tags": []
   },
   "source": [
    "![](https://github.com/techanalyst84/customer-analytics-project/blob/main/Recommendator%202.JPG?raw=true)"
   ]
  },
  {
   "cell_type": "markdown",
   "id": "4430ddcb",
   "metadata": {
    "id": "194hOcuxiSSl",
    "papermill": {
     "duration": 0.050227,
     "end_time": "2022-05-02T18:09:04.856001",
     "exception": false,
     "start_time": "2022-05-02T18:09:04.805774",
     "status": "completed"
    },
    "tags": []
   },
   "source": [
    "![](https://github.com/techanalyst84/customer-analytics-project/blob/main/Recommendator%203.JPG?raw=true)"
   ]
  },
  {
   "cell_type": "code",
   "execution_count": null,
   "id": "602ef74c",
   "metadata": {
    "id": "MVhR-kVGiSSp",
    "papermill": {
     "duration": 0.049965,
     "end_time": "2022-05-02T18:09:04.957355",
     "exception": false,
     "start_time": "2022-05-02T18:09:04.907390",
     "status": "completed"
    },
    "tags": []
   },
   "outputs": [],
   "source": [
    " "
   ]
  },
  {
   "cell_type": "markdown",
   "id": "5129714a",
   "metadata": {
    "id": "tQcnd5_eiSSp",
    "papermill": {
     "duration": 0.050518,
     "end_time": "2022-05-02T18:09:05.059111",
     "exception": false,
     "start_time": "2022-05-02T18:09:05.008593",
     "status": "completed"
    },
    "tags": []
   },
   "source": [
    "# Item-Based Collaborative Filtering -using Probabilistic Matrix Factorization\n",
    "\n"
   ]
  },
  {
   "cell_type": "markdown",
   "id": "8ede015b",
   "metadata": {
    "id": "G5IenImeiSSp",
    "papermill": {
     "duration": 0.050545,
     "end_time": "2022-05-02T18:09:05.161562",
     "exception": false,
     "start_time": "2022-05-02T18:09:05.111017",
     "status": "completed"
    },
    "tags": []
   },
   "source": [
    "**Preparing the data** \n",
    "We need to restrict the data respect to a minimum transaction date. In that way, we reduce the dimensionality of the problem and we get rid of transactions that are not important in terms of the time decaying popularity.\n",
    "\n",
    "Also, we are getting rid of articles that have not been bought enough. (Minimum 10 purchases are required)\n",
    "\n",
    "\n",
    "https://www.kaggle.com/code/luisrodri97/item-based-collaborative-filtering"
   ]
  },
  {
   "cell_type": "code",
   "execution_count": 22,
   "id": "96da86c0",
   "metadata": {
    "execution": {
     "iopub.execute_input": "2022-05-02T18:09:05.266665Z",
     "iopub.status.busy": "2022-05-02T18:09:05.265844Z",
     "iopub.status.idle": "2022-05-02T18:09:05.270692Z",
     "shell.execute_reply": "2022-05-02T18:09:05.269868Z"
    },
    "executionInfo": {
     "elapsed": 12,
     "status": "aborted",
     "timestamp": 1651256340248,
     "user": {
      "displayName": "Suneeth Sreedharan",
      "userId": "09929491400446734699"
     },
     "user_tz": 240
    },
    "id": "zH6MK-OKiSS_",
    "papermill": {
     "duration": 0.059926,
     "end_time": "2022-05-02T18:09:05.273404",
     "exception": false,
     "start_time": "2022-05-02T18:09:05.213478",
     "status": "completed"
    },
    "tags": []
   },
   "outputs": [],
   "source": [
    "import pandas as pd\n",
    "import numpy as np\n",
    "import datetime\n",
    "from tqdm import tqdm"
   ]
  },
  {
   "cell_type": "code",
   "execution_count": null,
   "id": "3d5a50b0",
   "metadata": {
    "papermill": {
     "duration": 0.05132,
     "end_time": "2022-05-02T18:09:05.377116",
     "exception": false,
     "start_time": "2022-05-02T18:09:05.325796",
     "status": "completed"
    },
    "tags": []
   },
   "outputs": [],
   "source": [
    " "
   ]
  },
  {
   "cell_type": "code",
   "execution_count": null,
   "id": "d9b1838b",
   "metadata": {
    "papermill": {
     "duration": 0.051143,
     "end_time": "2022-05-02T18:09:05.481694",
     "exception": false,
     "start_time": "2022-05-02T18:09:05.430551",
     "status": "completed"
    },
    "tags": []
   },
   "outputs": [],
   "source": []
  },
  {
   "cell_type": "code",
   "execution_count": 23,
   "id": "1b900f36",
   "metadata": {
    "execution": {
     "iopub.execute_input": "2022-05-02T18:09:05.585283Z",
     "iopub.status.busy": "2022-05-02T18:09:05.584662Z",
     "iopub.status.idle": "2022-05-02T18:09:05.596619Z",
     "shell.execute_reply": "2022-05-02T18:09:05.595923Z"
    },
    "papermill": {
     "duration": 0.066043,
     "end_time": "2022-05-02T18:09:05.598677",
     "exception": false,
     "start_time": "2022-05-02T18:09:05.532634",
     "status": "completed"
    },
    "tags": []
   },
   "outputs": [
    {
     "data": {
      "text/html": [
       "<div>\n",
       "<style scoped>\n",
       "    .dataframe tbody tr th:only-of-type {\n",
       "        vertical-align: middle;\n",
       "    }\n",
       "\n",
       "    .dataframe tbody tr th {\n",
       "        vertical-align: top;\n",
       "    }\n",
       "\n",
       "    .dataframe thead th {\n",
       "        text-align: right;\n",
       "    }\n",
       "</style>\n",
       "<table border=\"1\" class=\"dataframe\">\n",
       "  <thead>\n",
       "    <tr style=\"text-align: right;\">\n",
       "      <th></th>\n",
       "      <th>InvoiceDate</th>\n",
       "      <th>customer_id</th>\n",
       "      <th>article_id</th>\n",
       "      <th>price</th>\n",
       "      <th>sales_channel_id</th>\n",
       "      <th>date</th>\n",
       "    </tr>\n",
       "  </thead>\n",
       "  <tbody>\n",
       "    <tr>\n",
       "      <th>0</th>\n",
       "      <td>2018-09-20</td>\n",
       "      <td>000058a12d5b43e67d225668fa1f8d618c13dc232df0ca...</td>\n",
       "      <td>0663713001</td>\n",
       "      <td>0.050831</td>\n",
       "      <td>2</td>\n",
       "      <td>2018-09-20</td>\n",
       "    </tr>\n",
       "  </tbody>\n",
       "</table>\n",
       "</div>"
      ],
      "text/plain": [
       "  InvoiceDate                                        customer_id  article_id  \\\n",
       "0  2018-09-20  000058a12d5b43e67d225668fa1f8d618c13dc232df0ca...  0663713001   \n",
       "\n",
       "      price  sales_channel_id       date  \n",
       "0  0.050831                 2 2018-09-20  "
      ]
     },
     "execution_count": 23,
     "metadata": {},
     "output_type": "execute_result"
    }
   ],
   "source": [
    " transactions.head(1)"
   ]
  },
  {
   "cell_type": "code",
   "execution_count": 24,
   "id": "a6a08efc",
   "metadata": {
    "execution": {
     "iopub.execute_input": "2022-05-02T18:09:05.704725Z",
     "iopub.status.busy": "2022-05-02T18:09:05.704169Z",
     "iopub.status.idle": "2022-05-02T18:09:07.116306Z",
     "shell.execute_reply": "2022-05-02T18:09:07.115302Z"
    },
    "papermill": {
     "duration": 1.466884,
     "end_time": "2022-05-02T18:09:07.118639",
     "exception": false,
     "start_time": "2022-05-02T18:09:05.651755",
     "status": "completed"
    },
    "tags": []
   },
   "outputs": [],
   "source": [
    "start_date = datetime.datetime(2020,9,1)\n",
    "# Filter transactions by date\n",
    "transactions[\"t_dat\"] = pd.to_datetime(transactions[\"InvoiceDate\"])\n",
    "transactions = transactions.loc[transactions[\"InvoiceDate\"] >= start_date]"
   ]
  },
  {
   "cell_type": "code",
   "execution_count": 25,
   "id": "f74b4090",
   "metadata": {
    "execution": {
     "iopub.execute_input": "2022-05-02T18:09:07.225067Z",
     "iopub.status.busy": "2022-05-02T18:09:07.224791Z",
     "iopub.status.idle": "2022-05-02T18:09:07.494891Z",
     "shell.execute_reply": "2022-05-02T18:09:07.494064Z"
    },
    "papermill": {
     "duration": 0.32496,
     "end_time": "2022-05-02T18:09:07.497376",
     "exception": false,
     "start_time": "2022-05-02T18:09:07.172416",
     "status": "completed"
    },
    "tags": []
   },
   "outputs": [],
   "source": [
    "\n",
    "# Filter transactions by number of an article has been bought\n",
    "article_bought_count = transactions[['article_id', 'InvoiceDate']].groupby('article_id').count().reset_index().rename(columns={'InvoiceDate': 'count'})\n",
    "most_bought_articles = article_bought_count[article_bought_count['count']>10]['article_id'].values\n",
    "transactions = transactions[transactions['article_id'].isin(most_bought_articles)]\n",
    "transactions[\"bought\"]=1 "
   ]
  },
  {
   "cell_type": "code",
   "execution_count": null,
   "id": "d3c1ecca",
   "metadata": {
    "papermill": {
     "duration": 0.052367,
     "end_time": "2022-05-02T18:09:07.602879",
     "exception": false,
     "start_time": "2022-05-02T18:09:07.550512",
     "status": "completed"
    },
    "tags": []
   },
   "outputs": [],
   "source": [
    " "
   ]
  },
  {
   "cell_type": "raw",
   "id": "4c55e083",
   "metadata": {
    "papermill": {
     "duration": 0.051119,
     "end_time": "2022-05-02T18:09:07.707999",
     "exception": false,
     "start_time": "2022-05-02T18:09:07.656880",
     "status": "completed"
    },
    "tags": []
   },
   "source": [
    "Due to the big amount of items, we can not consider the whole matrix in order to train. Therefore, we need to generate some negative samples: transactions that have never occured.\n",
    "\n"
   ]
  },
  {
   "cell_type": "code",
   "execution_count": 26,
   "id": "98084a67",
   "metadata": {
    "execution": {
     "iopub.execute_input": "2022-05-02T18:09:07.813564Z",
     "iopub.status.busy": "2022-05-02T18:09:07.812578Z",
     "iopub.status.idle": "2022-05-02T18:09:08.136145Z",
     "shell.execute_reply": "2022-05-02T18:09:08.135028Z"
    },
    "papermill": {
     "duration": 0.379418,
     "end_time": "2022-05-02T18:09:08.138697",
     "exception": false,
     "start_time": "2022-05-02T18:09:07.759279",
     "status": "completed"
    },
    "tags": []
   },
   "outputs": [],
   "source": [
    "# Generate negative samples\n",
    "np.random.seed(0)\n",
    "\n",
    "negative_samples = pd.DataFrame({\n",
    "    'article_id': np.random.choice(transactions.article_id.unique(), transactions.shape[0]),\n",
    "    'customer_id': np.random.choice(transactions.customer_id.unique(), transactions.shape[0]),\n",
    "    'bought': np.zeros(transactions.shape[0])\n",
    "})"
   ]
  },
  {
   "cell_type": "raw",
   "id": "2a0b111d",
   "metadata": {
    "papermill": {
     "duration": 0.05046,
     "end_time": "2022-05-02T18:09:08.242428",
     "exception": false,
     "start_time": "2022-05-02T18:09:08.191968",
     "status": "completed"
    },
    "tags": []
   },
   "source": [
    "Model will be based on recommendations computed through the time decaying popularity and the most similar items to those items bought the most times by each user. Similarity among items is computed through cosine distance.\n",
    "\n"
   ]
  },
  {
   "cell_type": "code",
   "execution_count": 27,
   "id": "84e2df43",
   "metadata": {
    "execution": {
     "iopub.execute_input": "2022-05-02T18:09:08.349605Z",
     "iopub.status.busy": "2022-05-02T18:09:08.349301Z",
     "iopub.status.idle": "2022-05-02T18:09:08.378695Z",
     "shell.execute_reply": "2022-05-02T18:09:08.377455Z"
    },
    "papermill": {
     "duration": 0.086903,
     "end_time": "2022-05-02T18:09:08.381274",
     "exception": false,
     "start_time": "2022-05-02T18:09:08.294371",
     "status": "completed"
    },
    "tags": []
   },
   "outputs": [],
   "source": [
    "from sklearn.metrics.pairwise import cosine_similarity\n",
    "\n",
    "\n",
    "class ItemBased_RecSys:\n",
    "    ''' Collaborative filtering using a custom sim(u,u'). '''\n",
    "\n",
    "    def __init__(self, positive_transactions, negative_transactions, num_components=10):\n",
    "        ''' Constructor '''\n",
    "        self.positive_transactions = positive_transactions\n",
    "        self.transactions = pd.concat([positive_transactions, negative_transactions])\n",
    "        self.customers = self.transactions.customer_id.values\n",
    "        self.articles = self.transactions.article_id.values\n",
    "        self.bought = self.transactions.bought.values\n",
    "        self.num_components = num_components\n",
    "\n",
    "        self.customer_id2index = {c: i for i, c in enumerate(np.unique(self.customers))}\n",
    "        self.article_id2index = {a: i for i, a in enumerate(np.unique(self.articles))}\n",
    "        \n",
    "    def __sdg__(self):\n",
    "        for idx in tqdm(self.training_indices):\n",
    "            # Get the current sample\n",
    "            customer_id = self.customers[idx]\n",
    "            article_id = self.articles[idx]\n",
    "            bought = self.bought[idx]\n",
    "\n",
    "            # Get the index of the user and the article\n",
    "            customer_index = self.customer_id2index[customer_id]\n",
    "            article_index = self.article_id2index[article_id]\n",
    "\n",
    "            # Compute the prediction and the error\n",
    "            prediction = self.predict_single(customer_index, article_index)\n",
    "            error = (bought - prediction) # error\n",
    "            \n",
    "            # Update latent factors in terms of the learning rate and the observed error\n",
    "            self.customers_latent_matrix[customer_index] += self.learning_rate * \\\n",
    "                                    (error * self.articles_latent_matrix[article_index] - \\\n",
    "                                     self.lmbda * self.customers_latent_matrix[customer_index])\n",
    "            self.articles_latent_matrix[article_index] += self.learning_rate * \\\n",
    "                                    (error * self.customers_latent_matrix[customer_index] - \\\n",
    "                                     self.lmbda * self.articles_latent_matrix[article_index])\n",
    "                \n",
    "                \n",
    "    def fit(self, n_epochs=10, learning_rate=0.001, lmbda=0.1):\n",
    "        ''' Compute the matrix factorization R = P x Q '''\n",
    "        self.learning_rate = learning_rate\n",
    "        self.lmbda = lmbda\n",
    "        n_samples = self.transactions.shape[0]\n",
    "        \n",
    "        # Initialize latent matrices\n",
    "        self.customers_latent_matrix = np.random.normal(scale=1., size=(len(np.unique(self.customers)), self.num_components))\n",
    "        self.articles_latent_matrix = np.random.normal(scale=1., size=(len(np.unique(self.articles)), self.num_components))\n",
    "\n",
    "        for epoch in range(n_epochs):\n",
    "            print('Epoch: {}'.format(epoch))\n",
    "            self.training_indices = np.arange(n_samples)\n",
    "            \n",
    "            # Shuffle training samples and follow stochastic gradient descent\n",
    "            np.random.shuffle(self.training_indices)\n",
    "            self.__sdg__()\n",
    "\n",
    "    def predict_single(self, customer_index, article_index):\n",
    "        ''' Make a prediction for an specific user and article '''\n",
    "        prediction = np.dot(self.customers_latent_matrix[customer_index], self.articles_latent_matrix[article_index])\n",
    "        prediction = np.clip(prediction, 0, 1)\n",
    "        \n",
    "        return prediction\n",
    "\n",
    "    def default_recommendation(self):\n",
    "        ''' Calculate time decaying popularity '''\n",
    "        # Calculate time decaying popularity. This leads to items bought more recently having more weight in the popularity list.\n",
    "        # In simple words, item A bought 5 times on the first day of the train period is inferior than item B bought 4 times on the last day of the train period.\n",
    "        self.positive_transactions['pop_factor'] = self.positive_transactions['t_dat'].apply(lambda x: 1/(datetime.datetime(2020,9,23) - x).days)\n",
    "        transactions_by_article = self.positive_transactions[['article_id', 'pop_factor']].groupby('article_id').sum().reset_index()\n",
    "        return transactions_by_article.sort_values(by='pop_factor', ascending=False)['article_id'].values[:12]\n",
    "\n",
    "\n",
    "    def predict(self, customers):\n",
    "        ''' Make recommendations '''\n",
    "        recommendations = []\n",
    "        self.articles_latent_matrix[np.isnan(self.articles_latent_matrix)] = 0\n",
    "        # Compute similarity matrix (cosine)\n",
    "        similarity_matrix = cosine_similarity(self.articles_latent_matrix, self.articles_latent_matrix, dense_output=False)\n",
    "\n",
    "        # Convert similarity matrix into a matrix containing the 12 most similar items' index for each item\n",
    "        similarity_matrix = np.argsort(similarity_matrix, axis=1)\n",
    "        similarity_matrix = similarity_matrix[:, -12:]\n",
    "\n",
    "        # Get default recommendation (time decay popularity)\n",
    "        default_recommendation = self.default_recommendation()\n",
    "\n",
    "        # Group articles by user and articles to compute the number of times each article has been bought by each user\n",
    "        transactions_by_customer = self.positive_transactions[['customer_id', 'article_id', 'bought']].groupby(['customer_id', 'article_id']).count().reset_index()\n",
    "        most_bought_article = transactions_by_customer.loc[transactions_by_customer.groupby('customer_id').bought.idxmax()]['article_id'].values\n",
    "\n",
    "        # Make predictions\n",
    "        for customer in tqdm(customers):\n",
    "            try:\n",
    "                rec_aux1 = []\n",
    "                rec_aux2 = []\n",
    "                aux = []\n",
    "\n",
    "                # Retrieve the most bought article by customer\n",
    "                user_most_bought_article_id = most_bought_article[self.customer_id2index[customer]]\n",
    "\n",
    "                # Using the similarity matrix, get the 6 most similar articles\n",
    "                rec_aux1 = self.articles[similarity_matrix[self.article_id2index[user_most_bought_article_id]]]\n",
    "                # Return the half of the default recommendation\n",
    "                rec_aux2 = default_recommendation\n",
    "\n",
    "                # Merge half of both recommendation lists\n",
    "                for rec_idx in range(6):\n",
    "                    aux.append(rec_aux2[rec_idx])\n",
    "                    aux.append(rec_aux1[rec_idx])\n",
    "\n",
    "                recommendations.append(' '.join(aux))\n",
    "            except:\n",
    "                # Return the default recommendation\n",
    "                recommendations.append(' '.join(default_recommendation))\n",
    "        \n",
    "        return pd.DataFrame({\n",
    "            'customer_id': customers,\n",
    "            'prediction': recommendations,\n",
    "        })"
   ]
  },
  {
   "cell_type": "raw",
   "id": "ad662e01",
   "metadata": {
    "papermill": {
     "duration": 0.052214,
     "end_time": "2022-05-02T18:09:08.485139",
     "exception": false,
     "start_time": "2022-05-02T18:09:08.432925",
     "status": "completed"
    },
    "tags": []
   },
   "source": [
    "Define your hyperparameters and fit the model. Take into account that there are more customizable parameters in the data processing section.\n",
    "\n"
   ]
  },
  {
   "cell_type": "code",
   "execution_count": 28,
   "id": "051cf4cd",
   "metadata": {
    "execution": {
     "iopub.execute_input": "2022-05-02T18:09:08.589302Z",
     "iopub.status.busy": "2022-05-02T18:09:08.588999Z",
     "iopub.status.idle": "2022-05-02T18:24:16.440685Z",
     "shell.execute_reply": "2022-05-02T18:24:16.439699Z"
    },
    "papermill": {
     "duration": 907.906343,
     "end_time": "2022-05-02T18:24:16.442859",
     "exception": false,
     "start_time": "2022-05-02T18:09:08.536516",
     "status": "completed"
    },
    "tags": []
   },
   "outputs": [
    {
     "name": "stdout",
     "output_type": "stream",
     "text": [
      "Epoch: 0\n"
     ]
    },
    {
     "name": "stderr",
     "output_type": "stream",
     "text": [
      "100%|██████████| 1343348/1343348 [01:29<00:00, 14938.62it/s]\n"
     ]
    },
    {
     "name": "stdout",
     "output_type": "stream",
     "text": [
      "Epoch: 1\n"
     ]
    },
    {
     "name": "stderr",
     "output_type": "stream",
     "text": [
      "100%|██████████| 1343348/1343348 [01:29<00:00, 15057.20it/s]\n"
     ]
    },
    {
     "name": "stdout",
     "output_type": "stream",
     "text": [
      "Epoch: 2\n"
     ]
    },
    {
     "name": "stderr",
     "output_type": "stream",
     "text": [
      "100%|██████████| 1343348/1343348 [01:29<00:00, 15080.77it/s]\n"
     ]
    },
    {
     "name": "stdout",
     "output_type": "stream",
     "text": [
      "Epoch: 3\n"
     ]
    },
    {
     "name": "stderr",
     "output_type": "stream",
     "text": [
      "100%|██████████| 1343348/1343348 [01:31<00:00, 14680.95it/s]\n"
     ]
    },
    {
     "name": "stdout",
     "output_type": "stream",
     "text": [
      "Epoch: 4\n"
     ]
    },
    {
     "name": "stderr",
     "output_type": "stream",
     "text": [
      "100%|██████████| 1343348/1343348 [01:28<00:00, 15139.34it/s]\n"
     ]
    },
    {
     "name": "stdout",
     "output_type": "stream",
     "text": [
      "Epoch: 5\n"
     ]
    },
    {
     "name": "stderr",
     "output_type": "stream",
     "text": [
      "100%|██████████| 1343348/1343348 [01:27<00:00, 15288.78it/s]\n"
     ]
    },
    {
     "name": "stdout",
     "output_type": "stream",
     "text": [
      "Epoch: 6\n"
     ]
    },
    {
     "name": "stderr",
     "output_type": "stream",
     "text": [
      "100%|██████████| 1343348/1343348 [01:28<00:00, 15111.90it/s]\n"
     ]
    },
    {
     "name": "stdout",
     "output_type": "stream",
     "text": [
      "Epoch: 7\n"
     ]
    },
    {
     "name": "stderr",
     "output_type": "stream",
     "text": [
      "100%|██████████| 1343348/1343348 [01:28<00:00, 15151.09it/s]\n"
     ]
    },
    {
     "name": "stdout",
     "output_type": "stream",
     "text": [
      "Epoch: 8\n"
     ]
    },
    {
     "name": "stderr",
     "output_type": "stream",
     "text": [
      "100%|██████████| 1343348/1343348 [01:29<00:00, 15073.33it/s]\n"
     ]
    },
    {
     "name": "stdout",
     "output_type": "stream",
     "text": [
      "Epoch: 9\n"
     ]
    },
    {
     "name": "stderr",
     "output_type": "stream",
     "text": [
      "100%|██████████| 1343348/1343348 [01:28<00:00, 15254.46it/s]\n"
     ]
    }
   ],
   "source": [
    "rec = ItemBased_RecSys(transactions, negative_samples, num_components=1000)\n",
    "rec.fit(n_epochs=10)"
   ]
  },
  {
   "cell_type": "code",
   "execution_count": 29,
   "id": "0a883049",
   "metadata": {
    "execution": {
     "iopub.execute_input": "2022-05-02T18:24:23.178358Z",
     "iopub.status.busy": "2022-05-02T18:24:23.178076Z",
     "iopub.status.idle": "2022-05-02T18:24:29.941179Z",
     "shell.execute_reply": "2022-05-02T18:24:29.940165Z"
    },
    "papermill": {
     "duration": 10.158345,
     "end_time": "2022-05-02T18:24:29.943896",
     "exception": false,
     "start_time": "2022-05-02T18:24:19.785551",
     "status": "completed"
    },
    "tags": []
   },
   "outputs": [],
   "source": [
    "customers = pd.read_csv('../input/h-and-m-personalized-fashion-recommendations/sample_submission.csv'\n",
    "                       ,encoding=\"ISO-8859-1\", dtype={'article_id':str},header=0  ).customer_id.unique()"
   ]
  },
  {
   "cell_type": "code",
   "execution_count": 30,
   "id": "72713b66",
   "metadata": {
    "execution": {
     "iopub.execute_input": "2022-05-02T18:24:36.841097Z",
     "iopub.status.busy": "2022-05-02T18:24:36.840813Z",
     "iopub.status.idle": "2022-05-02T18:25:17.651149Z",
     "shell.execute_reply": "2022-05-02T18:25:17.649802Z"
    },
    "papermill": {
     "duration": 44.344225,
     "end_time": "2022-05-02T18:25:17.654322",
     "exception": false,
     "start_time": "2022-05-02T18:24:33.310097",
     "status": "completed"
    },
    "tags": []
   },
   "outputs": [
    {
     "name": "stderr",
     "output_type": "stream",
     "text": [
      "100%|██████████| 1371980/1371980 [00:05<00:00, 229324.37it/s]\n"
     ]
    }
   ],
   "source": [
    "recommendations = rec.predict(customers)"
   ]
  },
  {
   "cell_type": "code",
   "execution_count": 31,
   "id": "cc9e73cc",
   "metadata": {
    "execution": {
     "iopub.execute_input": "2022-05-02T18:25:24.645812Z",
     "iopub.status.busy": "2022-05-02T18:25:24.644702Z",
     "iopub.status.idle": "2022-05-02T18:25:24.656043Z",
     "shell.execute_reply": "2022-05-02T18:25:24.655189Z"
    },
    "papermill": {
     "duration": 3.552381,
     "end_time": "2022-05-02T18:25:24.658415",
     "exception": false,
     "start_time": "2022-05-02T18:25:21.106034",
     "status": "completed"
    },
    "tags": []
   },
   "outputs": [
    {
     "data": {
      "text/html": [
       "<div>\n",
       "<style scoped>\n",
       "    .dataframe tbody tr th:only-of-type {\n",
       "        vertical-align: middle;\n",
       "    }\n",
       "\n",
       "    .dataframe tbody tr th {\n",
       "        vertical-align: top;\n",
       "    }\n",
       "\n",
       "    .dataframe thead th {\n",
       "        text-align: right;\n",
       "    }\n",
       "</style>\n",
       "<table border=\"1\" class=\"dataframe\">\n",
       "  <thead>\n",
       "    <tr style=\"text-align: right;\">\n",
       "      <th></th>\n",
       "      <th>customer_id</th>\n",
       "      <th>prediction</th>\n",
       "    </tr>\n",
       "  </thead>\n",
       "  <tbody>\n",
       "    <tr>\n",
       "      <th>0</th>\n",
       "      <td>00000dbacae5abe5e23885899a1fa44253a17956c6d1c3...</td>\n",
       "      <td>0924243001 0811644004 0918522001 0816111004 07...</td>\n",
       "    </tr>\n",
       "    <tr>\n",
       "      <th>1</th>\n",
       "      <td>0000423b00ade91418cceaf3b26c6af3dd342b51fd051e...</td>\n",
       "      <td>0924243001 0918522001 0751471001 0924243002 09...</td>\n",
       "    </tr>\n",
       "    <tr>\n",
       "      <th>2</th>\n",
       "      <td>000058a12d5b43e67d225668fa1f8d618c13dc232df0ca...</td>\n",
       "      <td>0924243001 0794575001 0918522001 0796210010 07...</td>\n",
       "    </tr>\n",
       "    <tr>\n",
       "      <th>3</th>\n",
       "      <td>00005ca1c9ed5f5146b52ac8639a40ca9d57aeff4d1bd2...</td>\n",
       "      <td>0924243001 0918522001 0751471001 0924243002 09...</td>\n",
       "    </tr>\n",
       "    <tr>\n",
       "      <th>4</th>\n",
       "      <td>00006413d8573cd20ed7128e53b7b13819fe5cfc2d801f...</td>\n",
       "      <td>0924243001 0918522001 0751471001 0924243002 09...</td>\n",
       "    </tr>\n",
       "  </tbody>\n",
       "</table>\n",
       "</div>"
      ],
      "text/plain": [
       "                                         customer_id  \\\n",
       "0  00000dbacae5abe5e23885899a1fa44253a17956c6d1c3...   \n",
       "1  0000423b00ade91418cceaf3b26c6af3dd342b51fd051e...   \n",
       "2  000058a12d5b43e67d225668fa1f8d618c13dc232df0ca...   \n",
       "3  00005ca1c9ed5f5146b52ac8639a40ca9d57aeff4d1bd2...   \n",
       "4  00006413d8573cd20ed7128e53b7b13819fe5cfc2d801f...   \n",
       "\n",
       "                                          prediction  \n",
       "0  0924243001 0811644004 0918522001 0816111004 07...  \n",
       "1  0924243001 0918522001 0751471001 0924243002 09...  \n",
       "2  0924243001 0794575001 0918522001 0796210010 07...  \n",
       "3  0924243001 0918522001 0751471001 0924243002 09...  \n",
       "4  0924243001 0918522001 0751471001 0924243002 09...  "
      ]
     },
     "execution_count": 31,
     "metadata": {},
     "output_type": "execute_result"
    }
   ],
   "source": [
    "recommendations.head()"
   ]
  },
  {
   "cell_type": "code",
   "execution_count": 32,
   "id": "5e6d8dd3",
   "metadata": {
    "execution": {
     "iopub.execute_input": "2022-05-02T18:25:31.517618Z",
     "iopub.status.busy": "2022-05-02T18:25:31.517026Z",
     "iopub.status.idle": "2022-05-02T18:25:44.844180Z",
     "shell.execute_reply": "2022-05-02T18:25:44.843065Z"
    },
    "papermill": {
     "duration": 16.76031,
     "end_time": "2022-05-02T18:25:44.846812",
     "exception": false,
     "start_time": "2022-05-02T18:25:28.086502",
     "status": "completed"
    },
    "tags": []
   },
   "outputs": [],
   "source": [
    "recommendations.to_csv('submission.csv', index=False)"
   ]
  }
 ],
 "metadata": {
  "kernelspec": {
   "display_name": "Python 3",
   "language": "python",
   "name": "python3"
  },
  "language_info": {
   "codemirror_mode": {
    "name": "ipython",
    "version": 3
   },
   "file_extension": ".py",
   "mimetype": "text/x-python",
   "name": "python",
   "nbconvert_exporter": "python",
   "pygments_lexer": "ipython3",
   "version": "3.7.12"
  },
  "papermill": {
   "default_parameters": {},
   "duration": 1446.420112,
   "end_time": "2022-05-02T18:25:50.902868",
   "environment_variables": {},
   "exception": null,
   "input_path": "__notebook__.ipynb",
   "output_path": "__notebook__.ipynb",
   "parameters": {},
   "start_time": "2022-05-02T18:01:44.482756",
   "version": "2.3.4"
  }
 },
 "nbformat": 4,
 "nbformat_minor": 5
}
